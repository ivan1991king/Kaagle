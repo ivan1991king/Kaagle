{
 "cells": [
  {
   "cell_type": "markdown",
   "id": "c79950dd",
   "metadata": {},
   "source": [
    "# BECKER'S THEORY"
   ]
  },
  {
   "cell_type": "markdown",
   "id": "7405ad7f",
   "metadata": {},
   "source": [
    "Преступность можно рассматривать как специфичный рынок, на котором существует спрос и предложение. Предложение определяется готовностью преступников совершать правонарушений и зависит от каких факторов, как строгое наказание или легальных альтернатив заработка. Спрос формируется из потребности людей в результатах нелегальной деятельности, например, спрос на наркотики или краденое имущество.\n",
    "  \n",
    "Из концепция Беккера следует, что на уровень преступности влияют **размеры среднего заработка** и **уровень безработицы**. \n",
    "  \n",
    "Проверим, работает ли теория Беккера на данных по регионам России."
   ]
  },
  {
   "cell_type": "code",
   "execution_count": 1,
   "id": "0f98acf1",
   "metadata": {},
   "outputs": [],
   "source": [
    "# Импорт библиотек\n",
    "import pandas as pd\n",
    "import numpy as np\n",
    "import matplotlib.pyplot as plt\n",
    "import seaborn as sns\n",
    "from sklearn import metrics\n",
    "from sklearn.model_selection import GridSearchCV\n",
    "from sklearn.preprocessing import StandardScaler\n",
    "from sklearn import linear_model\n",
    "from sklearn.ensemble import RandomForestRegressor\n",
    "from xgboost import XGBRegressor\n",
    "import warnings\n",
    "warnings.filterwarnings('ignore')"
   ]
  },
  {
   "cell_type": "markdown",
   "id": "a0ef4937",
   "metadata": {},
   "source": [
    "## 1. Baseline"
   ]
  },
  {
   "cell_type": "markdown",
   "id": "933653fc",
   "metadata": {},
   "source": [
    "Данные по преступности, безработице и доходности населения возьмем с сайта по статистике по России https://russia.duck.consulting/\n",
    "\n",
    "Построим и проверим модель, которая строит зависимость уровня преступности от уровня безработицы и доходов граждан России.\n",
    "\n",
    "За основные показатели преступности возьмем количество краж, грабежей, разбоев и экономических преступлений."
   ]
  },
  {
   "cell_type": "code",
   "execution_count": 2,
   "id": "880421b8",
   "metadata": {},
   "outputs": [],
   "source": [
    "# Данные по кражам\n",
    "# Столбец 'thefts' содержит количество краж на 10000 жителей региона\n",
    "thefts = pd.read_csv('datasets/thefts.csv')\n",
    "thefts.columns = ['year', 'region', 'thefts']\n",
    "thefts = thefts.dropna()\n",
    "thefts['year'] = thefts['year'].astype(int)"
   ]
  },
  {
   "cell_type": "code",
   "execution_count": 3,
   "id": "9bc18762",
   "metadata": {},
   "outputs": [
    {
     "data": {
      "text/html": [
       "<div>\n",
       "<style scoped>\n",
       "    .dataframe tbody tr th:only-of-type {\n",
       "        vertical-align: middle;\n",
       "    }\n",
       "\n",
       "    .dataframe tbody tr th {\n",
       "        vertical-align: top;\n",
       "    }\n",
       "\n",
       "    .dataframe thead th {\n",
       "        text-align: right;\n",
       "    }\n",
       "</style>\n",
       "<table border=\"1\" class=\"dataframe\">\n",
       "  <thead>\n",
       "    <tr style=\"text-align: right;\">\n",
       "      <th></th>\n",
       "      <th>year</th>\n",
       "      <th>region</th>\n",
       "      <th>thefts</th>\n",
       "    </tr>\n",
       "  </thead>\n",
       "  <tbody>\n",
       "    <tr>\n",
       "      <th>0</th>\n",
       "      <td>2008</td>\n",
       "      <td>Алтайский край</td>\n",
       "      <td>119.09</td>\n",
       "    </tr>\n",
       "    <tr>\n",
       "      <th>1</th>\n",
       "      <td>2008</td>\n",
       "      <td>Амурская область</td>\n",
       "      <td>119.45</td>\n",
       "    </tr>\n",
       "    <tr>\n",
       "      <th>2</th>\n",
       "      <td>2008</td>\n",
       "      <td>Архангельская область</td>\n",
       "      <td>102.74</td>\n",
       "    </tr>\n",
       "    <tr>\n",
       "      <th>3</th>\n",
       "      <td>2008</td>\n",
       "      <td>Астраханская область</td>\n",
       "      <td>84.36</td>\n",
       "    </tr>\n",
       "    <tr>\n",
       "      <th>4</th>\n",
       "      <td>2008</td>\n",
       "      <td>Башкортостан</td>\n",
       "      <td>76.87</td>\n",
       "    </tr>\n",
       "  </tbody>\n",
       "</table>\n",
       "</div>"
      ],
      "text/plain": [
       "   year                 region  thefts\n",
       "0  2008         Алтайский край  119.09\n",
       "1  2008       Амурская область  119.45\n",
       "2  2008  Архангельская область  102.74\n",
       "3  2008   Астраханская область   84.36\n",
       "4  2008           Башкортостан   76.87"
      ]
     },
     "execution_count": 3,
     "metadata": {},
     "output_type": "execute_result"
    }
   ],
   "source": [
    "thefts.head()"
   ]
  },
  {
   "cell_type": "code",
   "execution_count": 4,
   "id": "42b47036",
   "metadata": {},
   "outputs": [
    {
     "name": "stdout",
     "output_type": "stream",
     "text": [
      "<class 'pandas.core.frame.DataFrame'>\n",
      "Int64Index: 829 entries, 0 to 828\n",
      "Data columns (total 3 columns):\n",
      " #   Column  Non-Null Count  Dtype  \n",
      "---  ------  --------------  -----  \n",
      " 0   year    829 non-null    int64  \n",
      " 1   region  829 non-null    object \n",
      " 2   thefts  829 non-null    float64\n",
      "dtypes: float64(1), int64(1), object(1)\n",
      "memory usage: 25.9+ KB\n"
     ]
    }
   ],
   "source": [
    "thefts.info()"
   ]
  },
  {
   "cell_type": "code",
   "execution_count": 5,
   "id": "3aee216f",
   "metadata": {},
   "outputs": [],
   "source": [
    "# Данные по грабежам\n",
    "# Столбец 'robbery' содержит количество грабежей на 10000 жителей региона\n",
    "robbery = pd.read_csv('datasets/robbery.csv')\n",
    "robbery.columns = ['year', 'region', 'robbery']\n",
    "robbery = robbery.dropna()\n",
    "robbery['year'] = robbery['year'].astype(int)"
   ]
  },
  {
   "cell_type": "code",
   "execution_count": 6,
   "id": "7e38749f",
   "metadata": {},
   "outputs": [
    {
     "data": {
      "text/html": [
       "<div>\n",
       "<style scoped>\n",
       "    .dataframe tbody tr th:only-of-type {\n",
       "        vertical-align: middle;\n",
       "    }\n",
       "\n",
       "    .dataframe tbody tr th {\n",
       "        vertical-align: top;\n",
       "    }\n",
       "\n",
       "    .dataframe thead th {\n",
       "        text-align: right;\n",
       "    }\n",
       "</style>\n",
       "<table border=\"1\" class=\"dataframe\">\n",
       "  <thead>\n",
       "    <tr style=\"text-align: right;\">\n",
       "      <th></th>\n",
       "      <th>year</th>\n",
       "      <th>region</th>\n",
       "      <th>robbery</th>\n",
       "    </tr>\n",
       "  </thead>\n",
       "  <tbody>\n",
       "    <tr>\n",
       "      <th>0</th>\n",
       "      <td>2008</td>\n",
       "      <td>Алтайский край</td>\n",
       "      <td>19.63</td>\n",
       "    </tr>\n",
       "    <tr>\n",
       "      <th>1</th>\n",
       "      <td>2008</td>\n",
       "      <td>Амурская область</td>\n",
       "      <td>18.74</td>\n",
       "    </tr>\n",
       "    <tr>\n",
       "      <th>2</th>\n",
       "      <td>2008</td>\n",
       "      <td>Архангельская область</td>\n",
       "      <td>16.07</td>\n",
       "    </tr>\n",
       "    <tr>\n",
       "      <th>3</th>\n",
       "      <td>2008</td>\n",
       "      <td>Астраханская область</td>\n",
       "      <td>17.39</td>\n",
       "    </tr>\n",
       "    <tr>\n",
       "      <th>4</th>\n",
       "      <td>2008</td>\n",
       "      <td>Башкортостан</td>\n",
       "      <td>9.07</td>\n",
       "    </tr>\n",
       "  </tbody>\n",
       "</table>\n",
       "</div>"
      ],
      "text/plain": [
       "   year                 region  robbery\n",
       "0  2008         Алтайский край    19.63\n",
       "1  2008       Амурская область    18.74\n",
       "2  2008  Архангельская область    16.07\n",
       "3  2008   Астраханская область    17.39\n",
       "4  2008           Башкортостан     9.07"
      ]
     },
     "execution_count": 6,
     "metadata": {},
     "output_type": "execute_result"
    }
   ],
   "source": [
    "robbery.head()"
   ]
  },
  {
   "cell_type": "code",
   "execution_count": 7,
   "id": "1d946574",
   "metadata": {},
   "outputs": [
    {
     "name": "stdout",
     "output_type": "stream",
     "text": [
      "<class 'pandas.core.frame.DataFrame'>\n",
      "Int64Index: 829 entries, 0 to 828\n",
      "Data columns (total 3 columns):\n",
      " #   Column   Non-Null Count  Dtype  \n",
      "---  ------   --------------  -----  \n",
      " 0   year     829 non-null    int64  \n",
      " 1   region   829 non-null    object \n",
      " 2   robbery  829 non-null    float64\n",
      "dtypes: float64(1), int64(1), object(1)\n",
      "memory usage: 25.9+ KB\n"
     ]
    }
   ],
   "source": [
    "robbery.info()"
   ]
  },
  {
   "cell_type": "code",
   "execution_count": 8,
   "id": "3ed83d70",
   "metadata": {},
   "outputs": [],
   "source": [
    "# Данные по разбоям\n",
    "# Столбец 'brigandage' содержит количество разбоев на 10000 жителей региона\n",
    "brigandage = pd.read_csv('datasets/brigandage.csv')\n",
    "brigandage.columns = ['year', 'region', 'brigandage']\n",
    "brigandage = brigandage.dropna()\n",
    "brigandage['year'] = brigandage['year'].astype(int)"
   ]
  },
  {
   "cell_type": "code",
   "execution_count": 9,
   "id": "1db57609",
   "metadata": {},
   "outputs": [
    {
     "data": {
      "text/html": [
       "<div>\n",
       "<style scoped>\n",
       "    .dataframe tbody tr th:only-of-type {\n",
       "        vertical-align: middle;\n",
       "    }\n",
       "\n",
       "    .dataframe tbody tr th {\n",
       "        vertical-align: top;\n",
       "    }\n",
       "\n",
       "    .dataframe thead th {\n",
       "        text-align: right;\n",
       "    }\n",
       "</style>\n",
       "<table border=\"1\" class=\"dataframe\">\n",
       "  <thead>\n",
       "    <tr style=\"text-align: right;\">\n",
       "      <th></th>\n",
       "      <th>year</th>\n",
       "      <th>region</th>\n",
       "      <th>brigandage</th>\n",
       "    </tr>\n",
       "  </thead>\n",
       "  <tbody>\n",
       "    <tr>\n",
       "      <th>0</th>\n",
       "      <td>2008</td>\n",
       "      <td>Алтайский край</td>\n",
       "      <td>1.28</td>\n",
       "    </tr>\n",
       "    <tr>\n",
       "      <th>1</th>\n",
       "      <td>2008</td>\n",
       "      <td>Амурская область</td>\n",
       "      <td>2.17</td>\n",
       "    </tr>\n",
       "    <tr>\n",
       "      <th>2</th>\n",
       "      <td>2008</td>\n",
       "      <td>Архангельская область</td>\n",
       "      <td>2.72</td>\n",
       "    </tr>\n",
       "    <tr>\n",
       "      <th>3</th>\n",
       "      <td>2008</td>\n",
       "      <td>Астраханская область</td>\n",
       "      <td>2.63</td>\n",
       "    </tr>\n",
       "    <tr>\n",
       "      <th>4</th>\n",
       "      <td>2008</td>\n",
       "      <td>Башкортостан</td>\n",
       "      <td>1.18</td>\n",
       "    </tr>\n",
       "  </tbody>\n",
       "</table>\n",
       "</div>"
      ],
      "text/plain": [
       "   year                 region  brigandage\n",
       "0  2008         Алтайский край        1.28\n",
       "1  2008       Амурская область        2.17\n",
       "2  2008  Архангельская область        2.72\n",
       "3  2008   Астраханская область        2.63\n",
       "4  2008           Башкортостан        1.18"
      ]
     },
     "execution_count": 9,
     "metadata": {},
     "output_type": "execute_result"
    }
   ],
   "source": [
    "brigandage.head()"
   ]
  },
  {
   "cell_type": "code",
   "execution_count": 10,
   "id": "89976708",
   "metadata": {},
   "outputs": [
    {
     "name": "stdout",
     "output_type": "stream",
     "text": [
      "<class 'pandas.core.frame.DataFrame'>\n",
      "Int64Index: 829 entries, 0 to 828\n",
      "Data columns (total 3 columns):\n",
      " #   Column      Non-Null Count  Dtype  \n",
      "---  ------      --------------  -----  \n",
      " 0   year        829 non-null    int64  \n",
      " 1   region      829 non-null    object \n",
      " 2   brigandage  829 non-null    float64\n",
      "dtypes: float64(1), int64(1), object(1)\n",
      "memory usage: 25.9+ KB\n"
     ]
    }
   ],
   "source": [
    "brigandage.info()"
   ]
  },
  {
   "cell_type": "code",
   "execution_count": 11,
   "id": "8eef479e",
   "metadata": {},
   "outputs": [],
   "source": [
    "# Данные по экономическим преступлениям\n",
    "# Столбец 'crimes_ec' содержит количество экономических преступлений на 10.000 жителей региона\n",
    "crimes_ec = pd.read_csv('datasets/crimes_ec.csv')\n",
    "crimes_ec.columns = ['year', 'region', 'crimes_ec']"
   ]
  },
  {
   "cell_type": "code",
   "execution_count": 12,
   "id": "f75f8b08",
   "metadata": {
    "scrolled": false
   },
   "outputs": [
    {
     "data": {
      "text/html": [
       "<div>\n",
       "<style scoped>\n",
       "    .dataframe tbody tr th:only-of-type {\n",
       "        vertical-align: middle;\n",
       "    }\n",
       "\n",
       "    .dataframe tbody tr th {\n",
       "        vertical-align: top;\n",
       "    }\n",
       "\n",
       "    .dataframe thead th {\n",
       "        text-align: right;\n",
       "    }\n",
       "</style>\n",
       "<table border=\"1\" class=\"dataframe\">\n",
       "  <thead>\n",
       "    <tr style=\"text-align: right;\">\n",
       "      <th></th>\n",
       "      <th>year</th>\n",
       "      <th>region</th>\n",
       "      <th>crimes_ec</th>\n",
       "    </tr>\n",
       "  </thead>\n",
       "  <tbody>\n",
       "    <tr>\n",
       "      <th>0</th>\n",
       "      <td>2008</td>\n",
       "      <td>Алтайский край</td>\n",
       "      <td>3.44</td>\n",
       "    </tr>\n",
       "    <tr>\n",
       "      <th>1</th>\n",
       "      <td>2008</td>\n",
       "      <td>Амурская область</td>\n",
       "      <td>5.35</td>\n",
       "    </tr>\n",
       "    <tr>\n",
       "      <th>2</th>\n",
       "      <td>2008</td>\n",
       "      <td>Архангельская область</td>\n",
       "      <td>13.03</td>\n",
       "    </tr>\n",
       "    <tr>\n",
       "      <th>3</th>\n",
       "      <td>2008</td>\n",
       "      <td>Астраханская область</td>\n",
       "      <td>12.99</td>\n",
       "    </tr>\n",
       "    <tr>\n",
       "      <th>4</th>\n",
       "      <td>2008</td>\n",
       "      <td>Башкортостан</td>\n",
       "      <td>4.66</td>\n",
       "    </tr>\n",
       "  </tbody>\n",
       "</table>\n",
       "</div>"
      ],
      "text/plain": [
       "   year                 region  crimes_ec\n",
       "0  2008         Алтайский край       3.44\n",
       "1  2008       Амурская область       5.35\n",
       "2  2008  Архангельская область      13.03\n",
       "3  2008   Астраханская область      12.99\n",
       "4  2008           Башкортостан       4.66"
      ]
     },
     "execution_count": 12,
     "metadata": {},
     "output_type": "execute_result"
    }
   ],
   "source": [
    "crimes_ec.head()"
   ]
  },
  {
   "cell_type": "code",
   "execution_count": 13,
   "id": "f5ab7886",
   "metadata": {
    "scrolled": true
   },
   "outputs": [
    {
     "name": "stdout",
     "output_type": "stream",
     "text": [
      "<class 'pandas.core.frame.DataFrame'>\n",
      "RangeIndex: 849 entries, 0 to 848\n",
      "Data columns (total 3 columns):\n",
      " #   Column     Non-Null Count  Dtype  \n",
      "---  ------     --------------  -----  \n",
      " 0   year       849 non-null    int64  \n",
      " 1   region     849 non-null    object \n",
      " 2   crimes_ec  837 non-null    float64\n",
      "dtypes: float64(1), int64(1), object(1)\n",
      "memory usage: 20.0+ KB\n"
     ]
    }
   ],
   "source": [
    "crimes_ec.info()"
   ]
  },
  {
   "cell_type": "code",
   "execution_count": 14,
   "id": "2b35ecb5",
   "metadata": {},
   "outputs": [],
   "source": [
    "# Данные по безработице\n",
    "# Столбец 'unemployment' содержит отношение численности безработных к численности рабочей силы, рассчитанное в процентах\n",
    "unemployment = pd.read_csv('datasets/unemployment.csv')\n",
    "unemployment.columns = ['year', 'region', 'unemployment']"
   ]
  },
  {
   "cell_type": "code",
   "execution_count": 15,
   "id": "e2a7acbf",
   "metadata": {},
   "outputs": [
    {
     "data": {
      "text/html": [
       "<div>\n",
       "<style scoped>\n",
       "    .dataframe tbody tr th:only-of-type {\n",
       "        vertical-align: middle;\n",
       "    }\n",
       "\n",
       "    .dataframe tbody tr th {\n",
       "        vertical-align: top;\n",
       "    }\n",
       "\n",
       "    .dataframe thead th {\n",
       "        text-align: right;\n",
       "    }\n",
       "</style>\n",
       "<table border=\"1\" class=\"dataframe\">\n",
       "  <thead>\n",
       "    <tr style=\"text-align: right;\">\n",
       "      <th></th>\n",
       "      <th>year</th>\n",
       "      <th>region</th>\n",
       "      <th>unemployment</th>\n",
       "    </tr>\n",
       "  </thead>\n",
       "  <tbody>\n",
       "    <tr>\n",
       "      <th>0</th>\n",
       "      <td>2008</td>\n",
       "      <td>Алтайский край</td>\n",
       "      <td>8.3</td>\n",
       "    </tr>\n",
       "    <tr>\n",
       "      <th>1</th>\n",
       "      <td>2008</td>\n",
       "      <td>Амурская область</td>\n",
       "      <td>5.4</td>\n",
       "    </tr>\n",
       "    <tr>\n",
       "      <th>2</th>\n",
       "      <td>2008</td>\n",
       "      <td>Архангельская область</td>\n",
       "      <td>6.8</td>\n",
       "    </tr>\n",
       "    <tr>\n",
       "      <th>3</th>\n",
       "      <td>2008</td>\n",
       "      <td>Астраханская область</td>\n",
       "      <td>7.4</td>\n",
       "    </tr>\n",
       "    <tr>\n",
       "      <th>4</th>\n",
       "      <td>2008</td>\n",
       "      <td>Башкортостан</td>\n",
       "      <td>5.2</td>\n",
       "    </tr>\n",
       "  </tbody>\n",
       "</table>\n",
       "</div>"
      ],
      "text/plain": [
       "   year                 region  unemployment\n",
       "0  2008         Алтайский край           8.3\n",
       "1  2008       Амурская область           5.4\n",
       "2  2008  Архангельская область           6.8\n",
       "3  2008   Астраханская область           7.4\n",
       "4  2008           Башкортостан           5.2"
      ]
     },
     "execution_count": 15,
     "metadata": {},
     "output_type": "execute_result"
    }
   ],
   "source": [
    "unemployment.head()"
   ]
  },
  {
   "cell_type": "code",
   "execution_count": 16,
   "id": "6326ee8f",
   "metadata": {},
   "outputs": [
    {
     "name": "stdout",
     "output_type": "stream",
     "text": [
      "<class 'pandas.core.frame.DataFrame'>\n",
      "RangeIndex: 849 entries, 0 to 848\n",
      "Data columns (total 3 columns):\n",
      " #   Column        Non-Null Count  Dtype  \n",
      "---  ------        --------------  -----  \n",
      " 0   year          849 non-null    int64  \n",
      " 1   region        849 non-null    object \n",
      " 2   unemployment  835 non-null    float64\n",
      "dtypes: float64(1), int64(1), object(1)\n",
      "memory usage: 20.0+ KB\n"
     ]
    }
   ],
   "source": [
    "unemployment.info()"
   ]
  },
  {
   "cell_type": "code",
   "execution_count": 17,
   "id": "67982edc",
   "metadata": {},
   "outputs": [],
   "source": [
    "# Данные по уровню заработка \n",
    "# Cтолбец 'income' содержит среднюю зарплату по региону\n",
    "income = pd.read_csv('datasets/income.csv')\n",
    "income.columns = ['year', 'region', 'income']"
   ]
  },
  {
   "cell_type": "code",
   "execution_count": 18,
   "id": "94809ac9",
   "metadata": {},
   "outputs": [
    {
     "data": {
      "text/html": [
       "<div>\n",
       "<style scoped>\n",
       "    .dataframe tbody tr th:only-of-type {\n",
       "        vertical-align: middle;\n",
       "    }\n",
       "\n",
       "    .dataframe tbody tr th {\n",
       "        vertical-align: top;\n",
       "    }\n",
       "\n",
       "    .dataframe thead th {\n",
       "        text-align: right;\n",
       "    }\n",
       "</style>\n",
       "<table border=\"1\" class=\"dataframe\">\n",
       "  <thead>\n",
       "    <tr style=\"text-align: right;\">\n",
       "      <th></th>\n",
       "      <th>year</th>\n",
       "      <th>region</th>\n",
       "      <th>income</th>\n",
       "    </tr>\n",
       "  </thead>\n",
       "  <tbody>\n",
       "    <tr>\n",
       "      <th>0</th>\n",
       "      <td>2005</td>\n",
       "      <td>Алтайский край</td>\n",
       "      <td>4538.0</td>\n",
       "    </tr>\n",
       "    <tr>\n",
       "      <th>1</th>\n",
       "      <td>2005</td>\n",
       "      <td>Амурская область</td>\n",
       "      <td>8312.0</td>\n",
       "    </tr>\n",
       "    <tr>\n",
       "      <th>2</th>\n",
       "      <td>2005</td>\n",
       "      <td>Архангельская область</td>\n",
       "      <td>8276.0</td>\n",
       "    </tr>\n",
       "    <tr>\n",
       "      <th>3</th>\n",
       "      <td>2005</td>\n",
       "      <td>Астраханская область</td>\n",
       "      <td>6411.0</td>\n",
       "    </tr>\n",
       "    <tr>\n",
       "      <th>4</th>\n",
       "      <td>2005</td>\n",
       "      <td>Башкортостан</td>\n",
       "      <td>6299.0</td>\n",
       "    </tr>\n",
       "  </tbody>\n",
       "</table>\n",
       "</div>"
      ],
      "text/plain": [
       "   year                 region  income\n",
       "0  2005         Алтайский край  4538.0\n",
       "1  2005       Амурская область  8312.0\n",
       "2  2005  Архангельская область  8276.0\n",
       "3  2005   Астраханская область  6411.0\n",
       "4  2005           Башкортостан  6299.0"
      ]
     },
     "execution_count": 18,
     "metadata": {},
     "output_type": "execute_result"
    }
   ],
   "source": [
    "income.head()"
   ]
  },
  {
   "cell_type": "code",
   "execution_count": 19,
   "id": "da74be9b",
   "metadata": {},
   "outputs": [
    {
     "name": "stdout",
     "output_type": "stream",
     "text": [
      "<class 'pandas.core.frame.DataFrame'>\n",
      "RangeIndex: 666 entries, 0 to 665\n",
      "Data columns (total 3 columns):\n",
      " #   Column  Non-Null Count  Dtype  \n",
      "---  ------  --------------  -----  \n",
      " 0   year    666 non-null    int64  \n",
      " 1   region  666 non-null    object \n",
      " 2   income  666 non-null    float64\n",
      "dtypes: float64(1), int64(1), object(1)\n",
      "memory usage: 15.7+ KB\n"
     ]
    }
   ],
   "source": [
    "income.info()"
   ]
  },
  {
   "cell_type": "code",
   "execution_count": 20,
   "id": "11202cb4",
   "metadata": {},
   "outputs": [],
   "source": [
    "# Cоединим наши датасеты в один по году и региону\n",
    "data = unemployment.merge(income, on = ['year' , 'region'])\n",
    "data = data.merge(thefts, on = ['year' , 'region'])\n",
    "data = data.merge(robbery, on = ['year' , 'region'])\n",
    "data = data.merge(brigandage, on = ['year' , 'region'])\n",
    "data = data.merge(crimes_ec, on = ['year' , 'region'])"
   ]
  },
  {
   "cell_type": "code",
   "execution_count": 21,
   "id": "f0be729b",
   "metadata": {},
   "outputs": [],
   "source": [
    "# Сформируем общий уровень преступности в отдельный столбец\n",
    "# После построения моделей решил убрать экономические преступления из общей преступности, т.к. \n",
    "# мои признаки больше соответствуют именно кражам, грабежам и разбоям\n",
    "data['crimes'] = data['thefts'] + data['robbery'] + data ['brigandage'] #+ data['crimes_ec']"
   ]
  },
  {
   "cell_type": "code",
   "execution_count": 22,
   "id": "02329393",
   "metadata": {},
   "outputs": [
    {
     "data": {
      "text/html": [
       "<div>\n",
       "<style scoped>\n",
       "    .dataframe tbody tr th:only-of-type {\n",
       "        vertical-align: middle;\n",
       "    }\n",
       "\n",
       "    .dataframe tbody tr th {\n",
       "        vertical-align: top;\n",
       "    }\n",
       "\n",
       "    .dataframe thead th {\n",
       "        text-align: right;\n",
       "    }\n",
       "</style>\n",
       "<table border=\"1\" class=\"dataframe\">\n",
       "  <thead>\n",
       "    <tr style=\"text-align: right;\">\n",
       "      <th></th>\n",
       "      <th>year</th>\n",
       "      <th>region</th>\n",
       "      <th>unemployment</th>\n",
       "      <th>income</th>\n",
       "      <th>thefts</th>\n",
       "      <th>robbery</th>\n",
       "      <th>brigandage</th>\n",
       "      <th>crimes_ec</th>\n",
       "      <th>crimes</th>\n",
       "    </tr>\n",
       "  </thead>\n",
       "  <tbody>\n",
       "    <tr>\n",
       "      <th>0</th>\n",
       "      <td>2009</td>\n",
       "      <td>Адыгея</td>\n",
       "      <td>7.7</td>\n",
       "      <td>10798.0</td>\n",
       "      <td>41.13</td>\n",
       "      <td>5.53</td>\n",
       "      <td>0.66</td>\n",
       "      <td>15.77</td>\n",
       "      <td>47.32</td>\n",
       "    </tr>\n",
       "    <tr>\n",
       "      <th>1</th>\n",
       "      <td>2009</td>\n",
       "      <td>Алтайский край</td>\n",
       "      <td>12.3</td>\n",
       "      <td>10741.0</td>\n",
       "      <td>98.36</td>\n",
       "      <td>14.35</td>\n",
       "      <td>1.30</td>\n",
       "      <td>15.02</td>\n",
       "      <td>114.01</td>\n",
       "    </tr>\n",
       "    <tr>\n",
       "      <th>2</th>\n",
       "      <td>2009</td>\n",
       "      <td>Амурская область</td>\n",
       "      <td>8.3</td>\n",
       "      <td>17969.0</td>\n",
       "      <td>101.22</td>\n",
       "      <td>15.77</td>\n",
       "      <td>2.04</td>\n",
       "      <td>19.17</td>\n",
       "      <td>119.03</td>\n",
       "    </tr>\n",
       "    <tr>\n",
       "      <th>3</th>\n",
       "      <td>2009</td>\n",
       "      <td>Архангельская область</td>\n",
       "      <td>7.2</td>\n",
       "      <td>17654.0</td>\n",
       "      <td>93.00</td>\n",
       "      <td>13.34</td>\n",
       "      <td>2.15</td>\n",
       "      <td>28.30</td>\n",
       "      <td>108.49</td>\n",
       "    </tr>\n",
       "    <tr>\n",
       "      <th>4</th>\n",
       "      <td>2009</td>\n",
       "      <td>Астраханская область</td>\n",
       "      <td>9.9</td>\n",
       "      <td>14011.0</td>\n",
       "      <td>76.76</td>\n",
       "      <td>14.32</td>\n",
       "      <td>2.44</td>\n",
       "      <td>102.89</td>\n",
       "      <td>93.52</td>\n",
       "    </tr>\n",
       "    <tr>\n",
       "      <th>...</th>\n",
       "      <td>...</td>\n",
       "      <td>...</td>\n",
       "      <td>...</td>\n",
       "      <td>...</td>\n",
       "      <td>...</td>\n",
       "      <td>...</td>\n",
       "      <td>...</td>\n",
       "      <td>...</td>\n",
       "      <td>...</td>\n",
       "    </tr>\n",
       "    <tr>\n",
       "      <th>409</th>\n",
       "      <td>2017</td>\n",
       "      <td>Чувашия</td>\n",
       "      <td>5.1</td>\n",
       "      <td>24315.0</td>\n",
       "      <td>28.80</td>\n",
       "      <td>2.73</td>\n",
       "      <td>0.27</td>\n",
       "      <td>8.35</td>\n",
       "      <td>31.80</td>\n",
       "    </tr>\n",
       "    <tr>\n",
       "      <th>410</th>\n",
       "      <td>2017</td>\n",
       "      <td>Чукотский автономный округ</td>\n",
       "      <td>2.9</td>\n",
       "      <td>80796.0</td>\n",
       "      <td>39.54</td>\n",
       "      <td>2.01</td>\n",
       "      <td>0.40</td>\n",
       "      <td>6.42</td>\n",
       "      <td>41.95</td>\n",
       "    </tr>\n",
       "    <tr>\n",
       "      <th>411</th>\n",
       "      <td>2017</td>\n",
       "      <td>Якутия</td>\n",
       "      <td>7.1</td>\n",
       "      <td>57425.0</td>\n",
       "      <td>42.86</td>\n",
       "      <td>4.27</td>\n",
       "      <td>0.51</td>\n",
       "      <td>5.17</td>\n",
       "      <td>47.64</td>\n",
       "    </tr>\n",
       "    <tr>\n",
       "      <th>412</th>\n",
       "      <td>2017</td>\n",
       "      <td>Ямало-Ненецкий автономный округ</td>\n",
       "      <td>3.2</td>\n",
       "      <td>84214.0</td>\n",
       "      <td>45.22</td>\n",
       "      <td>1.60</td>\n",
       "      <td>0.21</td>\n",
       "      <td>6.87</td>\n",
       "      <td>47.03</td>\n",
       "    </tr>\n",
       "    <tr>\n",
       "      <th>413</th>\n",
       "      <td>2017</td>\n",
       "      <td>Ярославская область</td>\n",
       "      <td>6.6</td>\n",
       "      <td>30709.0</td>\n",
       "      <td>62.60</td>\n",
       "      <td>4.75</td>\n",
       "      <td>0.78</td>\n",
       "      <td>5.13</td>\n",
       "      <td>68.13</td>\n",
       "    </tr>\n",
       "  </tbody>\n",
       "</table>\n",
       "<p>414 rows × 9 columns</p>\n",
       "</div>"
      ],
      "text/plain": [
       "     year                           region  unemployment   income  thefts  \\\n",
       "0    2009                           Адыгея           7.7  10798.0   41.13   \n",
       "1    2009                   Алтайский край          12.3  10741.0   98.36   \n",
       "2    2009                 Амурская область           8.3  17969.0  101.22   \n",
       "3    2009            Архангельская область           7.2  17654.0   93.00   \n",
       "4    2009             Астраханская область           9.9  14011.0   76.76   \n",
       "..    ...                              ...           ...      ...     ...   \n",
       "409  2017                          Чувашия           5.1  24315.0   28.80   \n",
       "410  2017       Чукотский автономный округ           2.9  80796.0   39.54   \n",
       "411  2017                           Якутия           7.1  57425.0   42.86   \n",
       "412  2017  Ямало-Ненецкий автономный округ           3.2  84214.0   45.22   \n",
       "413  2017              Ярославская область           6.6  30709.0   62.60   \n",
       "\n",
       "     robbery  brigandage  crimes_ec  crimes  \n",
       "0       5.53        0.66      15.77   47.32  \n",
       "1      14.35        1.30      15.02  114.01  \n",
       "2      15.77        2.04      19.17  119.03  \n",
       "3      13.34        2.15      28.30  108.49  \n",
       "4      14.32        2.44     102.89   93.52  \n",
       "..       ...         ...        ...     ...  \n",
       "409     2.73        0.27       8.35   31.80  \n",
       "410     2.01        0.40       6.42   41.95  \n",
       "411     4.27        0.51       5.17   47.64  \n",
       "412     1.60        0.21       6.87   47.03  \n",
       "413     4.75        0.78       5.13   68.13  \n",
       "\n",
       "[414 rows x 9 columns]"
      ]
     },
     "execution_count": 22,
     "metadata": {},
     "output_type": "execute_result"
    }
   ],
   "source": [
    "# Получили статистику с 2009 по 2017 г.\n",
    "data"
   ]
  },
  {
   "cell_type": "code",
   "execution_count": 23,
   "id": "2d1f7ecb",
   "metadata": {
    "scrolled": true
   },
   "outputs": [
    {
     "data": {
      "text/html": [
       "<div>\n",
       "<style scoped>\n",
       "    .dataframe tbody tr th:only-of-type {\n",
       "        vertical-align: middle;\n",
       "    }\n",
       "\n",
       "    .dataframe tbody tr th {\n",
       "        vertical-align: top;\n",
       "    }\n",
       "\n",
       "    .dataframe thead th {\n",
       "        text-align: right;\n",
       "    }\n",
       "</style>\n",
       "<table border=\"1\" class=\"dataframe\">\n",
       "  <thead>\n",
       "    <tr style=\"text-align: right;\">\n",
       "      <th></th>\n",
       "      <th>year</th>\n",
       "      <th>unemployment</th>\n",
       "      <th>income</th>\n",
       "      <th>thefts</th>\n",
       "      <th>robbery</th>\n",
       "      <th>brigandage</th>\n",
       "      <th>crimes_ec</th>\n",
       "      <th>crimes</th>\n",
       "    </tr>\n",
       "  </thead>\n",
       "  <tbody>\n",
       "    <tr>\n",
       "      <th>count</th>\n",
       "      <td>414.000000</td>\n",
       "      <td>414.000000</td>\n",
       "      <td>414.000000</td>\n",
       "      <td>414.000000</td>\n",
       "      <td>414.000000</td>\n",
       "      <td>414.000000</td>\n",
       "      <td>414.000000</td>\n",
       "      <td>414.000000</td>\n",
       "    </tr>\n",
       "    <tr>\n",
       "      <th>mean</th>\n",
       "      <td>2013.009662</td>\n",
       "      <td>7.545169</td>\n",
       "      <td>26044.671498</td>\n",
       "      <td>66.846836</td>\n",
       "      <td>6.985193</td>\n",
       "      <td>1.065942</td>\n",
       "      <td>13.199469</td>\n",
       "      <td>74.897971</td>\n",
       "    </tr>\n",
       "    <tr>\n",
       "      <th>std</th>\n",
       "      <td>2.828411</td>\n",
       "      <td>5.092402</td>\n",
       "      <td>13185.988890</td>\n",
       "      <td>28.692338</td>\n",
       "      <td>5.350390</td>\n",
       "      <td>0.701846</td>\n",
       "      <td>9.954201</td>\n",
       "      <td>33.364693</td>\n",
       "    </tr>\n",
       "    <tr>\n",
       "      <th>min</th>\n",
       "      <td>2009.000000</td>\n",
       "      <td>1.400000</td>\n",
       "      <td>8256.000000</td>\n",
       "      <td>3.890000</td>\n",
       "      <td>0.070000</td>\n",
       "      <td>0.000000</td>\n",
       "      <td>3.000000</td>\n",
       "      <td>4.270000</td>\n",
       "    </tr>\n",
       "    <tr>\n",
       "      <th>25%</th>\n",
       "      <td>2011.000000</td>\n",
       "      <td>5.100000</td>\n",
       "      <td>17461.250000</td>\n",
       "      <td>47.255000</td>\n",
       "      <td>3.640000</td>\n",
       "      <td>0.600000</td>\n",
       "      <td>6.750000</td>\n",
       "      <td>52.335000</td>\n",
       "    </tr>\n",
       "    <tr>\n",
       "      <th>50%</th>\n",
       "      <td>2013.000000</td>\n",
       "      <td>6.500000</td>\n",
       "      <td>23031.000000</td>\n",
       "      <td>65.410000</td>\n",
       "      <td>5.510000</td>\n",
       "      <td>0.860000</td>\n",
       "      <td>9.430000</td>\n",
       "      <td>72.015000</td>\n",
       "    </tr>\n",
       "    <tr>\n",
       "      <th>75%</th>\n",
       "      <td>2015.000000</td>\n",
       "      <td>8.575000</td>\n",
       "      <td>30263.500000</td>\n",
       "      <td>86.617500</td>\n",
       "      <td>8.875000</td>\n",
       "      <td>1.370000</td>\n",
       "      <td>16.362500</td>\n",
       "      <td>96.810000</td>\n",
       "    </tr>\n",
       "    <tr>\n",
       "      <th>max</th>\n",
       "      <td>2017.000000</td>\n",
       "      <td>53.200000</td>\n",
       "      <td>84214.000000</td>\n",
       "      <td>171.590000</td>\n",
       "      <td>36.070000</td>\n",
       "      <td>4.860000</td>\n",
       "      <td>102.890000</td>\n",
       "      <td>192.720000</td>\n",
       "    </tr>\n",
       "  </tbody>\n",
       "</table>\n",
       "</div>"
      ],
      "text/plain": [
       "              year  unemployment        income      thefts     robbery  \\\n",
       "count   414.000000    414.000000    414.000000  414.000000  414.000000   \n",
       "mean   2013.009662      7.545169  26044.671498   66.846836    6.985193   \n",
       "std       2.828411      5.092402  13185.988890   28.692338    5.350390   \n",
       "min    2009.000000      1.400000   8256.000000    3.890000    0.070000   \n",
       "25%    2011.000000      5.100000  17461.250000   47.255000    3.640000   \n",
       "50%    2013.000000      6.500000  23031.000000   65.410000    5.510000   \n",
       "75%    2015.000000      8.575000  30263.500000   86.617500    8.875000   \n",
       "max    2017.000000     53.200000  84214.000000  171.590000   36.070000   \n",
       "\n",
       "       brigandage   crimes_ec      crimes  \n",
       "count  414.000000  414.000000  414.000000  \n",
       "mean     1.065942   13.199469   74.897971  \n",
       "std      0.701846    9.954201   33.364693  \n",
       "min      0.000000    3.000000    4.270000  \n",
       "25%      0.600000    6.750000   52.335000  \n",
       "50%      0.860000    9.430000   72.015000  \n",
       "75%      1.370000   16.362500   96.810000  \n",
       "max      4.860000  102.890000  192.720000  "
      ]
     },
     "execution_count": 23,
     "metadata": {},
     "output_type": "execute_result"
    }
   ],
   "source": [
    "data.describe()"
   ]
  },
  {
   "cell_type": "code",
   "execution_count": 24,
   "id": "c1cbe5f5",
   "metadata": {
    "scrolled": true
   },
   "outputs": [
    {
     "data": {
      "image/png": "[encoded data removed]",
      "text/plain": [
       "<Figure size 1296x288 with 3 Axes>"
      ]
     },
     "metadata": {
      "needs_background": "light"
     },
     "output_type": "display_data"
    }
   ],
   "source": [
    "# Посмотрим выбросы\n",
    "fig, axs = plt.subplots(1, 3, figsize=(18,4))\n",
    "\n",
    "plt.suptitle('Анализ выбросов тренировочной выборки')\n",
    "sns.boxplot(data['unemployment'], color='green', ax=axs[0])\n",
    "sns.boxplot(data['income'], color='blue', ax=axs[1])\n",
    "sns.boxplot(data['crimes'], color='red', ax=axs[2])\n",
    "plt.show()"
   ]
  },
  {
   "cell_type": "code",
   "execution_count": 25,
   "id": "b32111da",
   "metadata": {},
   "outputs": [],
   "source": [
    "# Напишем функцию для определения минимальных и максимальных границ нормальных значений через межквартильный размах\n",
    "def set_limit(data, column, type_limit):\n",
    "    # расчёт межквартильного размаха\n",
    "    quart = data[column].quantile(.75) - data[column].quantile(.25)\n",
    "    if type_limit == 'low':\n",
    "        return data[column].quantile(.25) - quart * 1.5\n",
    "    elif type_limit == 'high':\n",
    "        return data[column].quantile(.75) + quart * 1.5"
   ]
  },
  {
   "cell_type": "code",
   "execution_count": 26,
   "id": "01391395",
   "metadata": {},
   "outputs": [],
   "source": [
    "# Найдем эти границы\n",
    "max_unemployment = set_limit(data, 'unemployment', 'high')\n",
    "min_unemployment = set_limit(data, 'unemployment', 'low')\n",
    "\n",
    "max_income = set_limit(data, 'income', 'high')\n",
    "min_income = set_limit(data, 'income', 'low')\n",
    "\n",
    "max_crimes = set_limit(data, 'crimes', 'high')\n",
    "min_crimes = set_limit(data, 'crimes', 'low')"
   ]
  },
  {
   "cell_type": "code",
   "execution_count": 27,
   "id": "7b7dda72",
   "metadata": {},
   "outputs": [
    {
     "data": {
      "text/html": [
       "<div>\n",
       "<style scoped>\n",
       "    .dataframe tbody tr th:only-of-type {\n",
       "        vertical-align: middle;\n",
       "    }\n",
       "\n",
       "    .dataframe tbody tr th {\n",
       "        vertical-align: top;\n",
       "    }\n",
       "\n",
       "    .dataframe thead th {\n",
       "        text-align: right;\n",
       "    }\n",
       "</style>\n",
       "<table border=\"1\" class=\"dataframe\">\n",
       "  <thead>\n",
       "    <tr style=\"text-align: right;\">\n",
       "      <th></th>\n",
       "      <th>year</th>\n",
       "      <th>region</th>\n",
       "      <th>unemployment</th>\n",
       "      <th>income</th>\n",
       "      <th>thefts</th>\n",
       "      <th>robbery</th>\n",
       "      <th>brigandage</th>\n",
       "      <th>crimes_ec</th>\n",
       "      <th>crimes</th>\n",
       "    </tr>\n",
       "  </thead>\n",
       "  <tbody>\n",
       "    <tr>\n",
       "      <th>18</th>\n",
       "      <td>2009</td>\n",
       "      <td>Иркутская область</td>\n",
       "      <td>10.8</td>\n",
       "      <td>18504.0</td>\n",
       "      <td>128.66</td>\n",
       "      <td>36.07</td>\n",
       "      <td>4.86</td>\n",
       "      <td>26.20</td>\n",
       "      <td>169.59</td>\n",
       "    </tr>\n",
       "    <tr>\n",
       "      <th>49</th>\n",
       "      <td>2009</td>\n",
       "      <td>Пермский край</td>\n",
       "      <td>9.9</td>\n",
       "      <td>15079.0</td>\n",
       "      <td>151.50</td>\n",
       "      <td>34.90</td>\n",
       "      <td>3.44</td>\n",
       "      <td>28.50</td>\n",
       "      <td>189.84</td>\n",
       "    </tr>\n",
       "    <tr>\n",
       "      <th>73</th>\n",
       "      <td>2009</td>\n",
       "      <td>Хабаровский край</td>\n",
       "      <td>10.2</td>\n",
       "      <td>21062.0</td>\n",
       "      <td>138.73</td>\n",
       "      <td>27.72</td>\n",
       "      <td>2.24</td>\n",
       "      <td>36.52</td>\n",
       "      <td>168.69</td>\n",
       "    </tr>\n",
       "    <tr>\n",
       "      <th>180</th>\n",
       "      <td>2013</td>\n",
       "      <td>Забайкальский край</td>\n",
       "      <td>10.5</td>\n",
       "      <td>25901.0</td>\n",
       "      <td>149.95</td>\n",
       "      <td>11.76</td>\n",
       "      <td>2.72</td>\n",
       "      <td>19.62</td>\n",
       "      <td>164.43</td>\n",
       "    </tr>\n",
       "    <tr>\n",
       "      <th>385</th>\n",
       "      <td>2017</td>\n",
       "      <td>Республика Тыва</td>\n",
       "      <td>18.3</td>\n",
       "      <td>28928.0</td>\n",
       "      <td>171.59</td>\n",
       "      <td>18.90</td>\n",
       "      <td>2.23</td>\n",
       "      <td>6.75</td>\n",
       "      <td>192.72</td>\n",
       "    </tr>\n",
       "  </tbody>\n",
       "</table>\n",
       "</div>"
      ],
      "text/plain": [
       "     year              region  unemployment   income  thefts  robbery  \\\n",
       "18   2009   Иркутская область          10.8  18504.0  128.66    36.07   \n",
       "49   2009       Пермский край           9.9  15079.0  151.50    34.90   \n",
       "73   2009    Хабаровский край          10.2  21062.0  138.73    27.72   \n",
       "180  2013  Забайкальский край          10.5  25901.0  149.95    11.76   \n",
       "385  2017     Республика Тыва          18.3  28928.0  171.59    18.90   \n",
       "\n",
       "     brigandage  crimes_ec  crimes  \n",
       "18         4.86      26.20  169.59  \n",
       "49         3.44      28.50  189.84  \n",
       "73         2.24      36.52  168.69  \n",
       "180        2.72      19.62  164.43  \n",
       "385        2.23       6.75  192.72  "
      ]
     },
     "execution_count": 27,
     "metadata": {},
     "output_type": "execute_result"
    }
   ],
   "source": [
    "# Посмотрим выбросы по преступности\n",
    "data.loc[data['crimes'] > max_crimes]"
   ]
  },
  {
   "cell_type": "markdown",
   "id": "cbb2d210",
   "metadata": {},
   "source": [
    "3 из 5 выбросов приходится на 2009 год, думаю это связано с высоким показателем грабежей по России в тот год. Проверим статистику по грабежам и увидим, что действительно в 2009 был самый большой показатель грабежей. Данные районы выпадают за пределы нормальных значений, но не слишком сильно.  \n",
    "В целом эти высокие показатели преступности относятся к югу Сибирского и Дальневосточного федеральных округов, которые в целом имеют высокий уровень бедности и высокий уровень преступности (выше 75 процентиля)."
   ]
  },
  {
   "cell_type": "code",
   "execution_count": 28,
   "id": "232cc86d",
   "metadata": {},
   "outputs": [
    {
     "data": {
      "image/png": "[encoded data removed]",
      "text/plain": [
       "<Figure size 432x288 with 1 Axes>"
      ]
     },
     "metadata": {
      "needs_background": "light"
     },
     "output_type": "display_data"
    }
   ],
   "source": [
    "# Построим сводную таблицу и график количества грабежей по всем грабежам по России. \n",
    "rob_pivot = robbery[robbery['year']>2008].pivot_table(index = 'year', values = 'robbery', aggfunc = 'sum')\n",
    "rob_pivot.plot(kind = 'bar')\n",
    "plt.show()"
   ]
  },
  {
   "cell_type": "code",
   "execution_count": 29,
   "id": "b2ee5534",
   "metadata": {},
   "outputs": [
    {
     "data": {
      "text/plain": [
       "{'Забайкальский край',\n",
       " 'Иркутская область',\n",
       " 'Пермский край',\n",
       " 'Республика Тыва',\n",
       " 'Хабаровский край'}"
      ]
     },
     "execution_count": 29,
     "metadata": {},
     "output_type": "execute_result"
    }
   ],
   "source": [
    "# Посмотрим связаны ли данные регионы с безработицей.\n",
    "# Список интересующих нас регионов\n",
    "res_col = set(data.loc[data['crimes'] > max_crimes]['region'])\n",
    "res_col"
   ]
  },
  {
   "cell_type": "code",
   "execution_count": 30,
   "id": "4b208d92",
   "metadata": {},
   "outputs": [
    {
     "data": {
      "text/html": [
       "<div>\n",
       "<style scoped>\n",
       "    .dataframe tbody tr th:only-of-type {\n",
       "        vertical-align: middle;\n",
       "    }\n",
       "\n",
       "    .dataframe tbody tr th {\n",
       "        vertical-align: top;\n",
       "    }\n",
       "\n",
       "    .dataframe thead th {\n",
       "        text-align: right;\n",
       "    }\n",
       "</style>\n",
       "<table border=\"1\" class=\"dataframe\">\n",
       "  <thead>\n",
       "    <tr style=\"text-align: right;\">\n",
       "      <th></th>\n",
       "      <th>year</th>\n",
       "      <th>region</th>\n",
       "      <th>unemployment</th>\n",
       "      <th>income</th>\n",
       "      <th>thefts</th>\n",
       "      <th>robbery</th>\n",
       "      <th>brigandage</th>\n",
       "      <th>crimes_ec</th>\n",
       "      <th>crimes</th>\n",
       "    </tr>\n",
       "  </thead>\n",
       "  <tbody>\n",
       "    <tr>\n",
       "      <th>54</th>\n",
       "      <td>2009</td>\n",
       "      <td>Республика Тыва</td>\n",
       "      <td>21.4</td>\n",
       "      <td>14559.0</td>\n",
       "      <td>50.83</td>\n",
       "      <td>10.74</td>\n",
       "      <td>2.49</td>\n",
       "      <td>28.66</td>\n",
       "      <td>64.06</td>\n",
       "    </tr>\n",
       "    <tr>\n",
       "      <th>136</th>\n",
       "      <td>2011</td>\n",
       "      <td>Республика Тыва</td>\n",
       "      <td>17.3</td>\n",
       "      <td>16917.0</td>\n",
       "      <td>53.09</td>\n",
       "      <td>11.03</td>\n",
       "      <td>2.08</td>\n",
       "      <td>6.49</td>\n",
       "      <td>66.20</td>\n",
       "    </tr>\n",
       "    <tr>\n",
       "      <th>219</th>\n",
       "      <td>2013</td>\n",
       "      <td>Республика Тыва</td>\n",
       "      <td>19.3</td>\n",
       "      <td>22974.0</td>\n",
       "      <td>71.73</td>\n",
       "      <td>9.66</td>\n",
       "      <td>2.67</td>\n",
       "      <td>4.67</td>\n",
       "      <td>84.06</td>\n",
       "    </tr>\n",
       "    <tr>\n",
       "      <th>302</th>\n",
       "      <td>2015</td>\n",
       "      <td>Республика Тыва</td>\n",
       "      <td>18.6</td>\n",
       "      <td>25664.0</td>\n",
       "      <td>111.48</td>\n",
       "      <td>9.82</td>\n",
       "      <td>2.29</td>\n",
       "      <td>5.35</td>\n",
       "      <td>123.59</td>\n",
       "    </tr>\n",
       "    <tr>\n",
       "      <th>385</th>\n",
       "      <td>2017</td>\n",
       "      <td>Республика Тыва</td>\n",
       "      <td>18.3</td>\n",
       "      <td>28928.0</td>\n",
       "      <td>171.59</td>\n",
       "      <td>18.90</td>\n",
       "      <td>2.23</td>\n",
       "      <td>6.75</td>\n",
       "      <td>192.72</td>\n",
       "    </tr>\n",
       "  </tbody>\n",
       "</table>\n",
       "</div>"
      ],
      "text/plain": [
       "     year           region  unemployment   income  thefts  robbery  \\\n",
       "54   2009  Республика Тыва          21.4  14559.0   50.83    10.74   \n",
       "136  2011  Республика Тыва          17.3  16917.0   53.09    11.03   \n",
       "219  2013  Республика Тыва          19.3  22974.0   71.73     9.66   \n",
       "302  2015  Республика Тыва          18.6  25664.0  111.48     9.82   \n",
       "385  2017  Республика Тыва          18.3  28928.0  171.59    18.90   \n",
       "\n",
       "     brigandage  crimes_ec  crimes  \n",
       "54         2.49      28.66   64.06  \n",
       "136        2.08       6.49   66.20  \n",
       "219        2.67       4.67   84.06  \n",
       "302        2.29       5.35  123.59  \n",
       "385        2.23       6.75  192.72  "
      ]
     },
     "execution_count": 30,
     "metadata": {},
     "output_type": "execute_result"
    }
   ],
   "source": [
    "# Проверим входит ли регион с выбросами по преступности в наблюдения с выбросами по безработице\n",
    "data.loc[(data['unemployment'] > max_unemployment) & (data['region'].isin(res_col))]"
   ]
  },
  {
   "cell_type": "markdown",
   "id": "042d5744",
   "metadata": {},
   "source": [
    "При проверке выяснилось, что только в республике Тыва за 2017 выбросы преступности связаны с высоким показателем безработицы, что имеет самый высокий показатель преступности в собранной статистике. Заметим, что в целом по республике Тыва прослеживаются сверхкритичный уровень безработицы. И сама республика считается одной из самых криминальных в России."
   ]
  },
  {
   "cell_type": "code",
   "execution_count": 31,
   "id": "dc3b3434",
   "metadata": {},
   "outputs": [
    {
     "data": {
      "text/html": [
       "<div>\n",
       "<style scoped>\n",
       "    .dataframe tbody tr th:only-of-type {\n",
       "        vertical-align: middle;\n",
       "    }\n",
       "\n",
       "    .dataframe tbody tr th {\n",
       "        vertical-align: top;\n",
       "    }\n",
       "\n",
       "    .dataframe thead th {\n",
       "        text-align: right;\n",
       "    }\n",
       "</style>\n",
       "<table border=\"1\" class=\"dataframe\">\n",
       "  <thead>\n",
       "    <tr style=\"text-align: right;\">\n",
       "      <th></th>\n",
       "      <th>year</th>\n",
       "      <th>region</th>\n",
       "      <th>unemployment</th>\n",
       "      <th>income</th>\n",
       "      <th>thefts</th>\n",
       "      <th>robbery</th>\n",
       "      <th>brigandage</th>\n",
       "      <th>crimes_ec</th>\n",
       "      <th>crimes</th>\n",
       "    </tr>\n",
       "  </thead>\n",
       "  <tbody>\n",
       "    <tr>\n",
       "      <th>15</th>\n",
       "      <td>2009</td>\n",
       "      <td>Забайкальский край</td>\n",
       "      <td>12.0</td>\n",
       "      <td>16752.0</td>\n",
       "      <td>114.47</td>\n",
       "      <td>15.72</td>\n",
       "      <td>2.98</td>\n",
       "      <td>34.87</td>\n",
       "      <td>133.17</td>\n",
       "    </tr>\n",
       "    <tr>\n",
       "      <th>97</th>\n",
       "      <td>2011</td>\n",
       "      <td>Забайкальский край</td>\n",
       "      <td>10.6</td>\n",
       "      <td>18623.0</td>\n",
       "      <td>128.91</td>\n",
       "      <td>13.23</td>\n",
       "      <td>2.56</td>\n",
       "      <td>13.44</td>\n",
       "      <td>144.70</td>\n",
       "    </tr>\n",
       "    <tr>\n",
       "      <th>180</th>\n",
       "      <td>2013</td>\n",
       "      <td>Забайкальский край</td>\n",
       "      <td>10.5</td>\n",
       "      <td>25901.0</td>\n",
       "      <td>149.95</td>\n",
       "      <td>11.76</td>\n",
       "      <td>2.72</td>\n",
       "      <td>19.62</td>\n",
       "      <td>164.43</td>\n",
       "    </tr>\n",
       "    <tr>\n",
       "      <th>263</th>\n",
       "      <td>2015</td>\n",
       "      <td>Забайкальский край</td>\n",
       "      <td>10.4</td>\n",
       "      <td>29786.0</td>\n",
       "      <td>146.87</td>\n",
       "      <td>8.72</td>\n",
       "      <td>1.96</td>\n",
       "      <td>11.01</td>\n",
       "      <td>157.55</td>\n",
       "    </tr>\n",
       "    <tr>\n",
       "      <th>346</th>\n",
       "      <td>2017</td>\n",
       "      <td>Забайкальский край</td>\n",
       "      <td>10.7</td>\n",
       "      <td>33370.0</td>\n",
       "      <td>111.55</td>\n",
       "      <td>6.86</td>\n",
       "      <td>1.13</td>\n",
       "      <td>8.69</td>\n",
       "      <td>119.54</td>\n",
       "    </tr>\n",
       "  </tbody>\n",
       "</table>\n",
       "</div>"
      ],
      "text/plain": [
       "     year              region  unemployment   income  thefts  robbery  \\\n",
       "15   2009  Забайкальский край          12.0  16752.0  114.47    15.72   \n",
       "97   2011  Забайкальский край          10.6  18623.0  128.91    13.23   \n",
       "180  2013  Забайкальский край          10.5  25901.0  149.95    11.76   \n",
       "263  2015  Забайкальский край          10.4  29786.0  146.87     8.72   \n",
       "346  2017  Забайкальский край          10.7  33370.0  111.55     6.86   \n",
       "\n",
       "     brigandage  crimes_ec  crimes  \n",
       "15         2.98      34.87  133.17  \n",
       "97         2.56      13.44  144.70  \n",
       "180        2.72      19.62  164.43  \n",
       "263        1.96      11.01  157.55  \n",
       "346        1.13       8.69  119.54  "
      ]
     },
     "execution_count": 31,
     "metadata": {},
     "output_type": "execute_result"
    }
   ],
   "source": [
    "# Посмотрим на Забайкальский край\n",
    "data[data['region'] == 'Забайкальский край']"
   ]
  },
  {
   "cell_type": "code",
   "execution_count": 32,
   "id": "fac2131f",
   "metadata": {},
   "outputs": [
    {
     "data": {
      "text/plain": [
       "96.81"
      ]
     },
     "execution_count": 32,
     "metadata": {},
     "output_type": "execute_result"
    }
   ],
   "source": [
    "# 75 процентиль статистики преступлений по регионам Росиии\n",
    "data['crimes'].quantile(.75)"
   ]
  },
  {
   "cell_type": "markdown",
   "id": "58a30ee8",
   "metadata": {},
   "source": [
    "Забайкальский край в целом имеет высокий уровень преступности. "
   ]
  },
  {
   "cell_type": "code",
   "execution_count": 33,
   "id": "8d070141",
   "metadata": {},
   "outputs": [
    {
     "data": {
      "text/html": [
       "<div>\n",
       "<style scoped>\n",
       "    .dataframe tbody tr th:only-of-type {\n",
       "        vertical-align: middle;\n",
       "    }\n",
       "\n",
       "    .dataframe tbody tr th {\n",
       "        vertical-align: top;\n",
       "    }\n",
       "\n",
       "    .dataframe thead th {\n",
       "        text-align: right;\n",
       "    }\n",
       "</style>\n",
       "<table border=\"1\" class=\"dataframe\">\n",
       "  <thead>\n",
       "    <tr style=\"text-align: right;\">\n",
       "      <th></th>\n",
       "      <th>year</th>\n",
       "      <th>region</th>\n",
       "      <th>unemployment</th>\n",
       "      <th>income</th>\n",
       "      <th>thefts</th>\n",
       "      <th>robbery</th>\n",
       "      <th>brigandage</th>\n",
       "      <th>crimes_ec</th>\n",
       "      <th>crimes</th>\n",
       "    </tr>\n",
       "  </thead>\n",
       "  <tbody>\n",
       "    <tr>\n",
       "      <th>0</th>\n",
       "      <td>2009</td>\n",
       "      <td>Адыгея</td>\n",
       "      <td>7.7</td>\n",
       "      <td>10798.0</td>\n",
       "      <td>41.13</td>\n",
       "      <td>5.53</td>\n",
       "      <td>0.66</td>\n",
       "      <td>15.77</td>\n",
       "      <td>47.32</td>\n",
       "    </tr>\n",
       "    <tr>\n",
       "      <th>1</th>\n",
       "      <td>2009</td>\n",
       "      <td>Алтайский край</td>\n",
       "      <td>12.3</td>\n",
       "      <td>10741.0</td>\n",
       "      <td>98.36</td>\n",
       "      <td>14.35</td>\n",
       "      <td>1.30</td>\n",
       "      <td>15.02</td>\n",
       "      <td>114.01</td>\n",
       "    </tr>\n",
       "    <tr>\n",
       "      <th>2</th>\n",
       "      <td>2009</td>\n",
       "      <td>Амурская область</td>\n",
       "      <td>8.3</td>\n",
       "      <td>17969.0</td>\n",
       "      <td>101.22</td>\n",
       "      <td>15.77</td>\n",
       "      <td>2.04</td>\n",
       "      <td>19.17</td>\n",
       "      <td>119.03</td>\n",
       "    </tr>\n",
       "    <tr>\n",
       "      <th>3</th>\n",
       "      <td>2009</td>\n",
       "      <td>Архангельская область</td>\n",
       "      <td>7.2</td>\n",
       "      <td>17654.0</td>\n",
       "      <td>93.00</td>\n",
       "      <td>13.34</td>\n",
       "      <td>2.15</td>\n",
       "      <td>28.30</td>\n",
       "      <td>108.49</td>\n",
       "    </tr>\n",
       "    <tr>\n",
       "      <th>4</th>\n",
       "      <td>2009</td>\n",
       "      <td>Астраханская область</td>\n",
       "      <td>9.9</td>\n",
       "      <td>14011.0</td>\n",
       "      <td>76.76</td>\n",
       "      <td>14.32</td>\n",
       "      <td>2.44</td>\n",
       "      <td>102.89</td>\n",
       "      <td>93.52</td>\n",
       "    </tr>\n",
       "    <tr>\n",
       "      <th>...</th>\n",
       "      <td>...</td>\n",
       "      <td>...</td>\n",
       "      <td>...</td>\n",
       "      <td>...</td>\n",
       "      <td>...</td>\n",
       "      <td>...</td>\n",
       "      <td>...</td>\n",
       "      <td>...</td>\n",
       "      <td>...</td>\n",
       "    </tr>\n",
       "    <tr>\n",
       "      <th>404</th>\n",
       "      <td>2017</td>\n",
       "      <td>Хабаровский край</td>\n",
       "      <td>4.9</td>\n",
       "      <td>44182.0</td>\n",
       "      <td>75.56</td>\n",
       "      <td>5.54</td>\n",
       "      <td>0.61</td>\n",
       "      <td>6.14</td>\n",
       "      <td>81.71</td>\n",
       "    </tr>\n",
       "    <tr>\n",
       "      <th>405</th>\n",
       "      <td>2017</td>\n",
       "      <td>Хакасия</td>\n",
       "      <td>4.9</td>\n",
       "      <td>33629.0</td>\n",
       "      <td>86.52</td>\n",
       "      <td>4.80</td>\n",
       "      <td>0.52</td>\n",
       "      <td>5.23</td>\n",
       "      <td>91.84</td>\n",
       "    </tr>\n",
       "    <tr>\n",
       "      <th>407</th>\n",
       "      <td>2017</td>\n",
       "      <td>Челябинская область</td>\n",
       "      <td>6.6</td>\n",
       "      <td>32759.0</td>\n",
       "      <td>74.64</td>\n",
       "      <td>7.92</td>\n",
       "      <td>0.99</td>\n",
       "      <td>7.89</td>\n",
       "      <td>83.55</td>\n",
       "    </tr>\n",
       "    <tr>\n",
       "      <th>409</th>\n",
       "      <td>2017</td>\n",
       "      <td>Чувашия</td>\n",
       "      <td>5.1</td>\n",
       "      <td>24315.0</td>\n",
       "      <td>28.80</td>\n",
       "      <td>2.73</td>\n",
       "      <td>0.27</td>\n",
       "      <td>8.35</td>\n",
       "      <td>31.80</td>\n",
       "    </tr>\n",
       "    <tr>\n",
       "      <th>413</th>\n",
       "      <td>2017</td>\n",
       "      <td>Ярославская область</td>\n",
       "      <td>6.6</td>\n",
       "      <td>30709.0</td>\n",
       "      <td>62.60</td>\n",
       "      <td>4.75</td>\n",
       "      <td>0.78</td>\n",
       "      <td>5.13</td>\n",
       "      <td>68.13</td>\n",
       "    </tr>\n",
       "  </tbody>\n",
       "</table>\n",
       "<p>363 rows × 9 columns</p>\n",
       "</div>"
      ],
      "text/plain": [
       "     year                 region  unemployment   income  thefts  robbery  \\\n",
       "0    2009                 Адыгея           7.7  10798.0   41.13     5.53   \n",
       "1    2009         Алтайский край          12.3  10741.0   98.36    14.35   \n",
       "2    2009       Амурская область           8.3  17969.0  101.22    15.77   \n",
       "3    2009  Архангельская область           7.2  17654.0   93.00    13.34   \n",
       "4    2009   Астраханская область           9.9  14011.0   76.76    14.32   \n",
       "..    ...                    ...           ...      ...     ...      ...   \n",
       "404  2017       Хабаровский край           4.9  44182.0   75.56     5.54   \n",
       "405  2017                Хакасия           4.9  33629.0   86.52     4.80   \n",
       "407  2017    Челябинская область           6.6  32759.0   74.64     7.92   \n",
       "409  2017                Чувашия           5.1  24315.0   28.80     2.73   \n",
       "413  2017    Ярославская область           6.6  30709.0   62.60     4.75   \n",
       "\n",
       "     brigandage  crimes_ec  crimes  \n",
       "0          0.66      15.77   47.32  \n",
       "1          1.30      15.02  114.01  \n",
       "2          2.04      19.17  119.03  \n",
       "3          2.15      28.30  108.49  \n",
       "4          2.44     102.89   93.52  \n",
       "..          ...        ...     ...  \n",
       "404        0.61       6.14   81.71  \n",
       "405        0.52       5.23   91.84  \n",
       "407        0.99       7.89   83.55  \n",
       "409        0.27       8.35   31.80  \n",
       "413        0.78       5.13   68.13  \n",
       "\n",
       "[363 rows x 9 columns]"
      ]
     },
     "execution_count": 33,
     "metadata": {},
     "output_type": "execute_result"
    }
   ],
   "source": [
    "# Cформируем \"хорошую\" выборку без выбросов\n",
    "data = data.query('@max_unemployment > unemployment > @min_unemployment &' \n",
    "                                   '@max_income > income > @min_income &'\n",
    "                                   '@max_crimes > crimes > @min_crimes'\n",
    "                                  )\n",
    "data"
   ]
  },
  {
   "cell_type": "code",
   "execution_count": 34,
   "id": "7eed7653",
   "metadata": {},
   "outputs": [
    {
     "name": "stdout",
     "output_type": "stream",
     "text": [
      "<class 'pandas.core.frame.DataFrame'>\n",
      "Int64Index: 363 entries, 0 to 413\n",
      "Data columns (total 9 columns):\n",
      " #   Column        Non-Null Count  Dtype  \n",
      "---  ------        --------------  -----  \n",
      " 0   year          363 non-null    int64  \n",
      " 1   region        363 non-null    object \n",
      " 2   unemployment  363 non-null    float64\n",
      " 3   income        363 non-null    float64\n",
      " 4   thefts        363 non-null    float64\n",
      " 5   robbery       363 non-null    float64\n",
      " 6   brigandage    363 non-null    float64\n",
      " 7   crimes_ec     363 non-null    float64\n",
      " 8   crimes        363 non-null    float64\n",
      "dtypes: float64(7), int64(1), object(1)\n",
      "memory usage: 28.4+ KB\n"
     ]
    }
   ],
   "source": [
    "data.info()"
   ]
  },
  {
   "cell_type": "markdown",
   "id": "7f874005",
   "metadata": {},
   "source": [
    "### Обучение"
   ]
  },
  {
   "cell_type": "markdown",
   "id": "fb8de1e0",
   "metadata": {},
   "source": [
    "**Подготовим признаки и целевую переменную**"
   ]
  },
  {
   "cell_type": "code",
   "execution_count": 35,
   "id": "5e359623",
   "metadata": {},
   "outputs": [],
   "source": [
    "# Выделим независимые переменные как признаки для обучения и целевую переменную\n",
    "features = ['unemployment', 'income']\n",
    "target = 'crimes'"
   ]
  },
  {
   "cell_type": "code",
   "execution_count": 36,
   "id": "82e12bd9",
   "metadata": {},
   "outputs": [],
   "source": [
    "# Отмасштабируем признаки\n",
    "scaler = StandardScaler()\n",
    "scaler.fit(data[features])\n",
    "data[features] = scaler.transform(data[features])"
   ]
  },
  {
   "cell_type": "code",
   "execution_count": 37,
   "id": "20d26c9f",
   "metadata": {},
   "outputs": [
    {
     "data": {
      "text/plain": [
       "<AxesSubplot:>"
      ]
     },
     "execution_count": 37,
     "metadata": {},
     "output_type": "execute_result"
    },
    {
     "data": {
      "image/png": "[encoded data removed]",
      "text/plain": [
       "<Figure size 432x288 with 2 Axes>"
      ]
     },
     "metadata": {
      "needs_background": "light"
     },
     "output_type": "display_data"
    }
   ],
   "source": [
    "# Посмотрим на корреляцию\n",
    "sns.heatmap(data[['unemployment', 'income', 'crimes']].corr(), annot= True)"
   ]
  },
  {
   "cell_type": "markdown",
   "id": "f30d541a",
   "metadata": {},
   "source": [
    "Имеем низкую корреляцию наших признаков с целевой переменной."
   ]
  },
  {
   "cell_type": "code",
   "execution_count": 38,
   "id": "a5c94cee",
   "metadata": {},
   "outputs": [],
   "source": [
    "# Определим размер обучающей выборки (70%/30%)\n",
    "train_size = int(data.shape[0]*0.7)"
   ]
  },
  {
   "cell_type": "code",
   "execution_count": 39,
   "id": "0c76be98",
   "metadata": {},
   "outputs": [],
   "source": [
    "# Определим размер обучающей и тестовой выборок через срезы\n",
    "data_train = data[:train_size]\n",
    "data_test = data[train_size:]"
   ]
  },
  {
   "cell_type": "code",
   "execution_count": 40,
   "id": "116b7297",
   "metadata": {},
   "outputs": [],
   "source": [
    "# Определим обучающую и тестовые выборки \n",
    "X_train = data_train[features]\n",
    "y_train = data_train[target]\n",
    "\n",
    "X_test = data_test[features]\n",
    "y_test = data_test[target]"
   ]
  },
  {
   "cell_type": "markdown",
   "id": "4212bc11",
   "metadata": {},
   "source": [
    "**Напишем вспомогательные функции**"
   ]
  },
  {
   "cell_type": "code",
   "execution_count": 41,
   "id": "61372beb",
   "metadata": {},
   "outputs": [],
   "source": [
    "# Напишем функцию вывода метрик\n",
    "def print_metrics(y_test, y_test_predict, model_name):\n",
    "    mae = metrics.mean_absolute_error(y_test, y_test_predict)\n",
    "    rmse = metrics.mean_squared_error(y_test, y_test_predict, squared = False)\n",
    "    r2_test = metrics.r2_score(y_test, y_test_predict)\n",
    "    print(f'MAE {model_name} на тестовой выборке: {mae:.2f}')\n",
    "    print(f'RMSE {model_name} на тестовой выборке: {rmse:.2f}')\n",
    "    print(f'R2 {model_name} на тестовой выборке: {r2_test:.3f}')"
   ]
  },
  {
   "cell_type": "code",
   "execution_count": 42,
   "id": "7cfc217f",
   "metadata": {},
   "outputs": [],
   "source": [
    "# Напишем функцию, оображающую важность признаков\n",
    "def show_feature_importance(model_name, feature_importance, feature_names):\n",
    "    feat_imp = pd.DataFrame({'feature_importance':feature_importance}, feature_names)\n",
    "    feat_imp.sort_values(by='feature_importance', ascending=True).plot(kind='barh', \n",
    "                        figsize=(10, len(feature_importance) * 0.4))\n",
    "    plt.xlabel(model_name + ' feature_importance')\n",
    "    plt.gca().legend_ = None"
   ]
  },
  {
   "cell_type": "code",
   "execution_count": 43,
   "id": "bd99bf70",
   "metadata": {},
   "outputs": [],
   "source": [
    "# Напишем функцию, строящую диаграмму рассеивания истинных значений и предсказанных на тренировочной и тестовой выборках\n",
    "def plot_y_true_vs_y_pred(y_train, y_test, y_train_pred, y_test_predict, model_name):\n",
    "    plt.figure(figsize=(16, 6))\n",
    "    plt.subplot(1,2,1)\n",
    "    plt.grid(True)\n",
    "    plt.xlabel(f'Предсказание модели \"{model_name}\"')\n",
    "    plt.ylabel('Истинные значения')\n",
    "    plt.xlim(y_train.min() - y_train.mean() // 3, y_train.max() + y_train.mean() // 3)\n",
    "    plt.ylim(y_train.min() - y_train.mean() // 3, y_train.max() + y_train.mean() // 3)\n",
    "    sns.scatterplot(y_train_predict, y_train, alpha=0.5, color='red', label='Train Data')\n",
    "    sns.scatterplot(y_test_predict, y_test, alpha=0.5, color='blue', label='Test Data')\n",
    "    plt.legend\n",
    "    plt.title(model_name)"
   ]
  },
  {
   "cell_type": "markdown",
   "id": "f5d03189",
   "metadata": {},
   "source": [
    "**Построим модель Линейной Регрессии**"
   ]
  },
  {
   "cell_type": "code",
   "execution_count": 44,
   "id": "eca73135",
   "metadata": {},
   "outputs": [
    {
     "name": "stdout",
     "output_type": "stream",
     "text": [
      "MAE Linear Regression Baseline на тестовой выборке: 26.27\n",
      "RMSE Linear Regression Baseline на тестовой выборке: 32.30\n",
      "R2 Linear Regression Baseline на тестовой выборке: -0.727\n"
     ]
    }
   ],
   "source": [
    "model_name = 'Linear Regression Baseline'\n",
    "linreg = linear_model.LinearRegression()\n",
    "linreg.fit(X_train, y_train)\n",
    "\n",
    "y_test_predict = linreg.predict(X_test)\n",
    "y_train_predict = linreg.predict(X_train)\n",
    "\n",
    "print_metrics(y_test, y_test_predict, model_name)"
   ]
  },
  {
   "cell_type": "code",
   "execution_count": 45,
   "id": "4f3b1cc1",
   "metadata": {
    "scrolled": true
   },
   "outputs": [
    {
     "data": {
      "image/png": "[encoded data removed]",
      "text/plain": [
       "<Figure size 720x57.6 with 1 Axes>"
      ]
     },
     "metadata": {
      "needs_background": "light"
     },
     "output_type": "display_data"
    }
   ],
   "source": [
    "show_feature_importance(model_name, linreg.coef_, X_train.columns)"
   ]
  },
  {
   "cell_type": "code",
   "execution_count": 46,
   "id": "8c0393d9",
   "metadata": {},
   "outputs": [
    {
     "data": {
      "image/png": "[encoded data removed]",
      "text/plain": [
       "<Figure size 1152x432 with 1 Axes>"
      ]
     },
     "metadata": {
      "needs_background": "light"
     },
     "output_type": "display_data"
    }
   ],
   "source": [
    "plot_y_true_vs_y_pred(y_train, y_test, y_train_predict, y_test_predict, model_name)"
   ]
  },
  {
   "cell_type": "markdown",
   "id": "4c92abdb",
   "metadata": {},
   "source": [
    "Получили довольно большие абсолютные ошибки и плохой коэффициент детерминации. Данная модель работает плохо. Теорию Беккера на этих данных c этой моделью мы не пожем подтвердить.  \n",
    "Попробуем подобрать другие признаки, чтобы построить модель предсказания предступности. Возьмем уровень бедности, качество жизни и продажи крепкого алкоголя в регионе."
   ]
  },
  {
   "cell_type": "markdown",
   "id": "1e262705",
   "metadata": {},
   "source": [
    "## 2. User Model"
   ]
  },
  {
   "cell_type": "code",
   "execution_count": 47,
   "id": "7577a63d",
   "metadata": {},
   "outputs": [],
   "source": [
    "# Данные по качеству жизни \n",
    "# Столбец 'life_quality' содержит рейтинг (индекс качества жизни «РИА Рейтинг»)\n",
    "life = pd.read_csv('datasets/life.csv')\n",
    "life.columns =  ['year', 'region', 'life_quality']"
   ]
  },
  {
   "cell_type": "markdown",
   "id": "473d2343",
   "metadata": {},
   "source": [
    "*Рейтинг построен на основе комплексного учета различных параметров, характеризующих качество жизни в регионах. При расчете проанализированы 67 показателей, которые объединены в 11 групп: уровень доходов населения, занятость и рынок труда, жилищные условия, безопасность проживания, демографическая ситуация, экологические и климатические условия, здоровье и уровень образования, обеспеченность объектами социальной инфраструктуры, уровень экономического развития, уровень развития малого бизнеса, освоенность территории и развитие транспортной инфраструктуры. Рейтинговый балл изменяется в диапазоне от 1 до 100*"
   ]
  },
  {
   "cell_type": "code",
   "execution_count": 48,
   "id": "858e0cf6",
   "metadata": {},
   "outputs": [
    {
     "name": "stdout",
     "output_type": "stream",
     "text": [
      "<class 'pandas.core.frame.DataFrame'>\n",
      "RangeIndex: 849 entries, 0 to 848\n",
      "Data columns (total 3 columns):\n",
      " #   Column        Non-Null Count  Dtype  \n",
      "---  ------        --------------  -----  \n",
      " 0   year          849 non-null    int64  \n",
      " 1   region        849 non-null    object \n",
      " 2   life_quality  841 non-null    float64\n",
      "dtypes: float64(1), int64(1), object(1)\n",
      "memory usage: 20.0+ KB\n"
     ]
    }
   ],
   "source": [
    "life.info()"
   ]
  },
  {
   "cell_type": "code",
   "execution_count": 49,
   "id": "cb9126c7",
   "metadata": {},
   "outputs": [],
   "source": [
    "# Данные по бедности \n",
    "# Столбец 'poverty' содержит численность населения с денежными доходами ниже величины регионального прожиточного минимума\n",
    "poverty = pd.read_csv('datasets/poverty.csv')\n",
    "poverty.columns =  ['year', 'region', 'poverty']"
   ]
  },
  {
   "cell_type": "code",
   "execution_count": 50,
   "id": "d8411835",
   "metadata": {},
   "outputs": [
    {
     "name": "stdout",
     "output_type": "stream",
     "text": [
      "<class 'pandas.core.frame.DataFrame'>\n",
      "RangeIndex: 2209 entries, 0 to 2208\n",
      "Data columns (total 3 columns):\n",
      " #   Column   Non-Null Count  Dtype  \n",
      "---  ------   --------------  -----  \n",
      " 0   year     2209 non-null   int64  \n",
      " 1   region   2209 non-null   object \n",
      " 2   poverty  1885 non-null   float64\n",
      "dtypes: float64(1), int64(1), object(1)\n",
      "memory usage: 51.9+ KB\n"
     ]
    }
   ],
   "source": [
    "poverty.info()"
   ]
  },
  {
   "cell_type": "code",
   "execution_count": 51,
   "id": "61d6b179",
   "metadata": {},
   "outputs": [],
   "source": [
    "# Данные по алкоголю\n",
    "# Столбец 'vodka' содержит продажи водки в литрах в год на душу населения\n",
    "vodka = pd.read_csv('datasets/vodka.csv')\n",
    "vodka.columns = ['year', 'region', 'vodka']"
   ]
  },
  {
   "cell_type": "code",
   "execution_count": 52,
   "id": "d7a7ef4e",
   "metadata": {},
   "outputs": [
    {
     "name": "stdout",
     "output_type": "stream",
     "text": [
      "<class 'pandas.core.frame.DataFrame'>\n",
      "RangeIndex: 1614 entries, 0 to 1613\n",
      "Data columns (total 3 columns):\n",
      " #   Column  Non-Null Count  Dtype  \n",
      "---  ------  --------------  -----  \n",
      " 0   year    1614 non-null   int64  \n",
      " 1   region  1614 non-null   object \n",
      " 2   vodka   1553 non-null   float64\n",
      "dtypes: float64(1), int64(1), object(1)\n",
      "memory usage: 38.0+ KB\n"
     ]
    }
   ],
   "source": [
    "vodka.info()"
   ]
  },
  {
   "cell_type": "code",
   "execution_count": 53,
   "id": "96deac53",
   "metadata": {},
   "outputs": [
    {
     "data": {
      "text/html": [
       "<div>\n",
       "<style scoped>\n",
       "    .dataframe tbody tr th:only-of-type {\n",
       "        vertical-align: middle;\n",
       "    }\n",
       "\n",
       "    .dataframe tbody tr th {\n",
       "        vertical-align: top;\n",
       "    }\n",
       "\n",
       "    .dataframe thead th {\n",
       "        text-align: right;\n",
       "    }\n",
       "</style>\n",
       "<table border=\"1\" class=\"dataframe\">\n",
       "  <thead>\n",
       "    <tr style=\"text-align: right;\">\n",
       "      <th></th>\n",
       "      <th>year</th>\n",
       "      <th>region</th>\n",
       "      <th>unemployment</th>\n",
       "      <th>income</th>\n",
       "      <th>thefts</th>\n",
       "      <th>robbery</th>\n",
       "      <th>brigandage</th>\n",
       "      <th>crimes_ec</th>\n",
       "      <th>crimes</th>\n",
       "      <th>life_quality</th>\n",
       "      <th>poverty</th>\n",
       "      <th>vodka</th>\n",
       "    </tr>\n",
       "  </thead>\n",
       "  <tbody>\n",
       "    <tr>\n",
       "      <th>0</th>\n",
       "      <td>2013</td>\n",
       "      <td>Адыгея</td>\n",
       "      <td>0.445435</td>\n",
       "      <td>-0.608840</td>\n",
       "      <td>30.40</td>\n",
       "      <td>1.94</td>\n",
       "      <td>0.38</td>\n",
       "      <td>13.50</td>\n",
       "      <td>32.72</td>\n",
       "      <td>40.66</td>\n",
       "      <td>12.0</td>\n",
       "      <td>4.7</td>\n",
       "    </tr>\n",
       "    <tr>\n",
       "      <th>1</th>\n",
       "      <td>2013</td>\n",
       "      <td>Алтайский край</td>\n",
       "      <td>0.619158</td>\n",
       "      <td>-0.707276</td>\n",
       "      <td>79.79</td>\n",
       "      <td>5.30</td>\n",
       "      <td>0.53</td>\n",
       "      <td>6.70</td>\n",
       "      <td>85.62</td>\n",
       "      <td>36.40</td>\n",
       "      <td>17.6</td>\n",
       "      <td>8.7</td>\n",
       "    </tr>\n",
       "    <tr>\n",
       "      <th>2</th>\n",
       "      <td>2013</td>\n",
       "      <td>Амурская область</td>\n",
       "      <td>-0.336319</td>\n",
       "      <td>0.650906</td>\n",
       "      <td>95.26</td>\n",
       "      <td>9.83</td>\n",
       "      <td>1.63</td>\n",
       "      <td>4.36</td>\n",
       "      <td>106.72</td>\n",
       "      <td>35.15</td>\n",
       "      <td>15.1</td>\n",
       "      <td>10.2</td>\n",
       "    </tr>\n",
       "    <tr>\n",
       "      <th>3</th>\n",
       "      <td>2013</td>\n",
       "      <td>Архангельская область</td>\n",
       "      <td>-0.336319</td>\n",
       "      <td>0.660281</td>\n",
       "      <td>82.30</td>\n",
       "      <td>8.23</td>\n",
       "      <td>1.21</td>\n",
       "      <td>8.99</td>\n",
       "      <td>91.74</td>\n",
       "      <td>36.85</td>\n",
       "      <td>13.9</td>\n",
       "      <td>14.4</td>\n",
       "    </tr>\n",
       "    <tr>\n",
       "      <th>4</th>\n",
       "      <td>2013</td>\n",
       "      <td>Астраханская область</td>\n",
       "      <td>0.271712</td>\n",
       "      <td>-0.269588</td>\n",
       "      <td>53.98</td>\n",
       "      <td>5.84</td>\n",
       "      <td>1.08</td>\n",
       "      <td>13.49</td>\n",
       "      <td>60.90</td>\n",
       "      <td>40.91</td>\n",
       "      <td>12.0</td>\n",
       "      <td>7.3</td>\n",
       "    </tr>\n",
       "  </tbody>\n",
       "</table>\n",
       "</div>"
      ],
      "text/plain": [
       "   year                 region  unemployment    income  thefts  robbery  \\\n",
       "0  2013                 Адыгея      0.445435 -0.608840   30.40     1.94   \n",
       "1  2013         Алтайский край      0.619158 -0.707276   79.79     5.30   \n",
       "2  2013       Амурская область     -0.336319  0.650906   95.26     9.83   \n",
       "3  2013  Архангельская область     -0.336319  0.660281   82.30     8.23   \n",
       "4  2013   Астраханская область      0.271712 -0.269588   53.98     5.84   \n",
       "\n",
       "   brigandage  crimes_ec  crimes  life_quality  poverty  vodka  \n",
       "0        0.38      13.50   32.72         40.66     12.0    4.7  \n",
       "1        0.53       6.70   85.62         36.40     17.6    8.7  \n",
       "2        1.63       4.36  106.72         35.15     15.1   10.2  \n",
       "3        1.21       8.99   91.74         36.85     13.9   14.4  \n",
       "4        1.08      13.49   60.90         40.91     12.0    7.3  "
      ]
     },
     "execution_count": 53,
     "metadata": {},
     "output_type": "execute_result"
    }
   ],
   "source": [
    "# Cоединим наши датасеты в один по году и региону\n",
    "data = data.merge(life, on = ['year' , 'region'])\n",
    "data = data.merge(poverty, on = ['year' , 'region'])\n",
    "data = data.merge(vodka, on = ['year' , 'region'])\n",
    "\n",
    "# Удалим пропуски\n",
    "data = data.dropna()\n",
    "data.head()"
   ]
  },
  {
   "cell_type": "code",
   "execution_count": 54,
   "id": "2bb3c395",
   "metadata": {},
   "outputs": [],
   "source": [
    "# Найдем границы нормальных значений\n",
    "max_life_quality = set_limit(data, 'life_quality', 'high')\n",
    "min_life_quality = set_limit(data, 'life_quality', 'low')\n",
    "\n",
    "max_poverty = set_limit(data, 'poverty', 'high')\n",
    "min_poverty = set_limit(data, 'poverty', 'low')\n",
    "\n",
    "max_vodka = set_limit(data, 'vodka', 'high')\n",
    "min_vodka = set_limit(data, 'vodka', 'low')\n",
    "\n",
    "max_crimes = set_limit(data, 'crimes', 'high')\n",
    "min_crimes = set_limit(data, 'crimes', 'low')"
   ]
  },
  {
   "cell_type": "code",
   "execution_count": 55,
   "id": "eba07d4c",
   "metadata": {},
   "outputs": [
    {
     "data": {
      "text/html": [
       "<div>\n",
       "<style scoped>\n",
       "    .dataframe tbody tr th:only-of-type {\n",
       "        vertical-align: middle;\n",
       "    }\n",
       "\n",
       "    .dataframe tbody tr th {\n",
       "        vertical-align: top;\n",
       "    }\n",
       "\n",
       "    .dataframe thead th {\n",
       "        text-align: right;\n",
       "    }\n",
       "</style>\n",
       "<table border=\"1\" class=\"dataframe\">\n",
       "  <thead>\n",
       "    <tr style=\"text-align: right;\">\n",
       "      <th></th>\n",
       "      <th>year</th>\n",
       "      <th>region</th>\n",
       "      <th>unemployment</th>\n",
       "      <th>income</th>\n",
       "      <th>thefts</th>\n",
       "      <th>robbery</th>\n",
       "      <th>brigandage</th>\n",
       "      <th>crimes_ec</th>\n",
       "      <th>crimes</th>\n",
       "      <th>life_quality</th>\n",
       "      <th>poverty</th>\n",
       "      <th>vodka</th>\n",
       "    </tr>\n",
       "  </thead>\n",
       "  <tbody>\n",
       "    <tr>\n",
       "      <th>0</th>\n",
       "      <td>2013</td>\n",
       "      <td>Адыгея</td>\n",
       "      <td>0.445435</td>\n",
       "      <td>-0.608840</td>\n",
       "      <td>30.40</td>\n",
       "      <td>1.94</td>\n",
       "      <td>0.38</td>\n",
       "      <td>13.50</td>\n",
       "      <td>32.72</td>\n",
       "      <td>40.66</td>\n",
       "      <td>12.0</td>\n",
       "      <td>4.7</td>\n",
       "    </tr>\n",
       "    <tr>\n",
       "      <th>1</th>\n",
       "      <td>2013</td>\n",
       "      <td>Алтайский край</td>\n",
       "      <td>0.619158</td>\n",
       "      <td>-0.707276</td>\n",
       "      <td>79.79</td>\n",
       "      <td>5.30</td>\n",
       "      <td>0.53</td>\n",
       "      <td>6.70</td>\n",
       "      <td>85.62</td>\n",
       "      <td>36.40</td>\n",
       "      <td>17.6</td>\n",
       "      <td>8.7</td>\n",
       "    </tr>\n",
       "    <tr>\n",
       "      <th>2</th>\n",
       "      <td>2013</td>\n",
       "      <td>Амурская область</td>\n",
       "      <td>-0.336319</td>\n",
       "      <td>0.650906</td>\n",
       "      <td>95.26</td>\n",
       "      <td>9.83</td>\n",
       "      <td>1.63</td>\n",
       "      <td>4.36</td>\n",
       "      <td>106.72</td>\n",
       "      <td>35.15</td>\n",
       "      <td>15.1</td>\n",
       "      <td>10.2</td>\n",
       "    </tr>\n",
       "    <tr>\n",
       "      <th>3</th>\n",
       "      <td>2013</td>\n",
       "      <td>Архангельская область</td>\n",
       "      <td>-0.336319</td>\n",
       "      <td>0.660281</td>\n",
       "      <td>82.30</td>\n",
       "      <td>8.23</td>\n",
       "      <td>1.21</td>\n",
       "      <td>8.99</td>\n",
       "      <td>91.74</td>\n",
       "      <td>36.85</td>\n",
       "      <td>13.9</td>\n",
       "      <td>14.4</td>\n",
       "    </tr>\n",
       "    <tr>\n",
       "      <th>4</th>\n",
       "      <td>2013</td>\n",
       "      <td>Астраханская область</td>\n",
       "      <td>0.271712</td>\n",
       "      <td>-0.269588</td>\n",
       "      <td>53.98</td>\n",
       "      <td>5.84</td>\n",
       "      <td>1.08</td>\n",
       "      <td>13.49</td>\n",
       "      <td>60.90</td>\n",
       "      <td>40.91</td>\n",
       "      <td>12.0</td>\n",
       "      <td>7.3</td>\n",
       "    </tr>\n",
       "    <tr>\n",
       "      <th>...</th>\n",
       "      <td>...</td>\n",
       "      <td>...</td>\n",
       "      <td>...</td>\n",
       "      <td>...</td>\n",
       "      <td>...</td>\n",
       "      <td>...</td>\n",
       "      <td>...</td>\n",
       "      <td>...</td>\n",
       "      <td>...</td>\n",
       "      <td>...</td>\n",
       "      <td>...</td>\n",
       "      <td>...</td>\n",
       "    </tr>\n",
       "    <tr>\n",
       "      <th>136</th>\n",
       "      <td>2015</td>\n",
       "      <td>Хабаровский край</td>\n",
       "      <td>-0.683765</td>\n",
       "      <td>1.798037</td>\n",
       "      <td>103.74</td>\n",
       "      <td>8.22</td>\n",
       "      <td>1.14</td>\n",
       "      <td>7.20</td>\n",
       "      <td>113.10</td>\n",
       "      <td>44.85</td>\n",
       "      <td>13.7</td>\n",
       "      <td>11.1</td>\n",
       "    </tr>\n",
       "    <tr>\n",
       "      <th>137</th>\n",
       "      <td>2015</td>\n",
       "      <td>Хакасия</td>\n",
       "      <td>-0.466612</td>\n",
       "      <td>0.689226</td>\n",
       "      <td>120.55</td>\n",
       "      <td>5.80</td>\n",
       "      <td>0.82</td>\n",
       "      <td>6.83</td>\n",
       "      <td>127.17</td>\n",
       "      <td>36.02</td>\n",
       "      <td>17.7</td>\n",
       "      <td>4.7</td>\n",
       "    </tr>\n",
       "    <tr>\n",
       "      <th>138</th>\n",
       "      <td>2015</td>\n",
       "      <td>Челябинская область</td>\n",
       "      <td>0.054558</td>\n",
       "      <td>0.545322</td>\n",
       "      <td>88.75</td>\n",
       "      <td>7.55</td>\n",
       "      <td>1.19</td>\n",
       "      <td>6.44</td>\n",
       "      <td>97.49</td>\n",
       "      <td>52.69</td>\n",
       "      <td>13.8</td>\n",
       "      <td>4.4</td>\n",
       "    </tr>\n",
       "    <tr>\n",
       "      <th>139</th>\n",
       "      <td>2015</td>\n",
       "      <td>Чувашия</td>\n",
       "      <td>-0.814058</td>\n",
       "      <td>-0.267713</td>\n",
       "      <td>42.36</td>\n",
       "      <td>3.56</td>\n",
       "      <td>0.54</td>\n",
       "      <td>8.34</td>\n",
       "      <td>46.46</td>\n",
       "      <td>44.80</td>\n",
       "      <td>17.8</td>\n",
       "      <td>8.2</td>\n",
       "    </tr>\n",
       "    <tr>\n",
       "      <th>140</th>\n",
       "      <td>2015</td>\n",
       "      <td>Ярославская область</td>\n",
       "      <td>-0.683765</td>\n",
       "      <td>0.471612</td>\n",
       "      <td>90.92</td>\n",
       "      <td>7.36</td>\n",
       "      <td>0.95</td>\n",
       "      <td>5.14</td>\n",
       "      <td>99.23</td>\n",
       "      <td>48.10</td>\n",
       "      <td>10.5</td>\n",
       "      <td>8.7</td>\n",
       "    </tr>\n",
       "  </tbody>\n",
       "</table>\n",
       "<p>133 rows × 12 columns</p>\n",
       "</div>"
      ],
      "text/plain": [
       "     year                 region  unemployment    income  thefts  robbery  \\\n",
       "0    2013                 Адыгея      0.445435 -0.608840   30.40     1.94   \n",
       "1    2013         Алтайский край      0.619158 -0.707276   79.79     5.30   \n",
       "2    2013       Амурская область     -0.336319  0.650906   95.26     9.83   \n",
       "3    2013  Архангельская область     -0.336319  0.660281   82.30     8.23   \n",
       "4    2013   Астраханская область      0.271712 -0.269588   53.98     5.84   \n",
       "..    ...                    ...           ...       ...     ...      ...   \n",
       "136  2015       Хабаровский край     -0.683765  1.798037  103.74     8.22   \n",
       "137  2015                Хакасия     -0.466612  0.689226  120.55     5.80   \n",
       "138  2015    Челябинская область      0.054558  0.545322   88.75     7.55   \n",
       "139  2015                Чувашия     -0.814058 -0.267713   42.36     3.56   \n",
       "140  2015    Ярославская область     -0.683765  0.471612   90.92     7.36   \n",
       "\n",
       "     brigandage  crimes_ec  crimes  life_quality  poverty  vodka  \n",
       "0          0.38      13.50   32.72         40.66     12.0    4.7  \n",
       "1          0.53       6.70   85.62         36.40     17.6    8.7  \n",
       "2          1.63       4.36  106.72         35.15     15.1   10.2  \n",
       "3          1.21       8.99   91.74         36.85     13.9   14.4  \n",
       "4          1.08      13.49   60.90         40.91     12.0    7.3  \n",
       "..          ...        ...     ...           ...      ...    ...  \n",
       "136        1.14       7.20  113.10         44.85     13.7   11.1  \n",
       "137        0.82       6.83  127.17         36.02     17.7    4.7  \n",
       "138        1.19       6.44   97.49         52.69     13.8    4.4  \n",
       "139        0.54       8.34   46.46         44.80     17.8    8.2  \n",
       "140        0.95       5.14   99.23         48.10     10.5    8.7  \n",
       "\n",
       "[133 rows x 12 columns]"
      ]
     },
     "execution_count": 55,
     "metadata": {},
     "output_type": "execute_result"
    }
   ],
   "source": [
    "# Cформируем \"хорошую\" выборку без выбросов\n",
    "data = data.query('@max_life_quality > life_quality > @min_life_quality &' \n",
    "                                   '@max_poverty > poverty > @min_poverty &'\n",
    "                                   '@max_crimes > crimes > @min_crimes &'\n",
    "                                   '@max_vodka > vodka > @min_vodka'\n",
    "                                  )\n",
    "data"
   ]
  },
  {
   "cell_type": "markdown",
   "id": "9f6d60ce",
   "metadata": {},
   "source": [
    "### Обучение"
   ]
  },
  {
   "cell_type": "code",
   "execution_count": 56,
   "id": "1a2a6a96",
   "metadata": {},
   "outputs": [],
   "source": [
    "# Выделим дополнительные независимые переменные как признаки для обучения и целевую переменную\n",
    "features_new = ['life_quality', 'poverty', 'vodka']\n",
    "target = 'crimes'"
   ]
  },
  {
   "cell_type": "code",
   "execution_count": 57,
   "id": "280e738c",
   "metadata": {},
   "outputs": [],
   "source": [
    "scaler = StandardScaler()\n",
    "scaler.fit(data[features_new])\n",
    "data[features_new] = scaler.transform(data[features_new])"
   ]
  },
  {
   "cell_type": "code",
   "execution_count": 58,
   "id": "11968d89",
   "metadata": {},
   "outputs": [],
   "source": [
    "features.extend(features_new)"
   ]
  },
  {
   "cell_type": "code",
   "execution_count": 59,
   "id": "f825e898",
   "metadata": {},
   "outputs": [
    {
     "data": {
      "text/plain": [
       "['unemployment', 'income', 'life_quality', 'poverty', 'vodka']"
      ]
     },
     "execution_count": 59,
     "metadata": {},
     "output_type": "execute_result"
    }
   ],
   "source": [
    "features"
   ]
  },
  {
   "cell_type": "code",
   "execution_count": 60,
   "id": "1f2378f0",
   "metadata": {},
   "outputs": [
    {
     "data": {
      "text/plain": [
       "<AxesSubplot:>"
      ]
     },
     "execution_count": 60,
     "metadata": {},
     "output_type": "execute_result"
    },
    {
     "data": {
      "image/png": "[encoded data removed]",
      "text/plain": [
       "<Figure size 432x288 with 2 Axes>"
      ]
     },
     "metadata": {
      "needs_background": "light"
     },
     "output_type": "display_data"
    }
   ],
   "source": [
    "sns.heatmap(data[features+['crimes']].corr(), annot= True)"
   ]
  },
  {
   "cell_type": "markdown",
   "id": "65520402",
   "metadata": {},
   "source": [
    "Имеем небольшую корреляцию дохода и продажи водки с преступностью."
   ]
  },
  {
   "cell_type": "code",
   "execution_count": 61,
   "id": "be9bb343",
   "metadata": {},
   "outputs": [],
   "source": [
    "# Определим размер обучающей выборки\n",
    "train_size = int(data.shape[0]*0.7)"
   ]
  },
  {
   "cell_type": "code",
   "execution_count": 62,
   "id": "ee84a391",
   "metadata": {},
   "outputs": [],
   "source": [
    "# Определим размер обучающей и тестовой выборок через срезы\n",
    "data_train = data[:train_size]\n",
    "data_test = data[train_size:]"
   ]
  },
  {
   "cell_type": "code",
   "execution_count": 63,
   "id": "5a0ba525",
   "metadata": {},
   "outputs": [],
   "source": [
    "# Определим обучающую и тестовые выборки \n",
    "X_train = data_train[features]\n",
    "y_train = data_train[target]\n",
    "\n",
    "X_test = data_test[features]\n",
    "y_test = data_test[target]"
   ]
  },
  {
   "cell_type": "markdown",
   "id": "6655b3bc",
   "metadata": {},
   "source": [
    "**Построим модель Линейной Регрессии**"
   ]
  },
  {
   "cell_type": "code",
   "execution_count": 64,
   "id": "2d8d12b7",
   "metadata": {},
   "outputs": [
    {
     "name": "stdout",
     "output_type": "stream",
     "text": [
      "MAE Linear Regression User Model на тестовой выборке: 17.00\n",
      "RMSE Linear Regression User Model на тестовой выборке: 21.62\n",
      "R2 Linear Regression User Model на тестовой выборке: 0.298\n"
     ]
    }
   ],
   "source": [
    "model_name = 'Linear Regression User Model'\n",
    "\n",
    "linreg = linear_model.LinearRegression()\n",
    "linreg.fit(X_train, y_train)\n",
    "\n",
    "y_test_predict = linreg.predict(X_test)\n",
    "y_train_predict = linreg.predict(X_train)\n",
    "\n",
    "print_metrics(y_test, y_test_predict, model_name)"
   ]
  },
  {
   "cell_type": "code",
   "execution_count": 65,
   "id": "bac66478",
   "metadata": {},
   "outputs": [
    {
     "data": {
      "image/png": "[encoded data removed]",
      "text/plain": [
       "<Figure size 720x144 with 1 Axes>"
      ]
     },
     "metadata": {
      "needs_background": "light"
     },
     "output_type": "display_data"
    }
   ],
   "source": [
    "show_feature_importance(model_name, linreg.coef_, X_train.columns)"
   ]
  },
  {
   "cell_type": "code",
   "execution_count": 66,
   "id": "f394375a",
   "metadata": {},
   "outputs": [
    {
     "data": {
      "image/png": "[encoded data removed]",
      "text/plain": [
       "<Figure size 1152x432 with 1 Axes>"
      ]
     },
     "metadata": {
      "needs_background": "light"
     },
     "output_type": "display_data"
    }
   ],
   "source": [
    "plot_y_true_vs_y_pred(y_train, y_test, y_train_predict, y_test_predict, model_name)"
   ]
  },
  {
   "cell_type": "markdown",
   "id": "228f2345",
   "metadata": {},
   "source": [
    "Данная линейная модель работает лучше чем Baseline. Больше всего выражена зависимость от продажи водки в регионе, в меньшей степени от бедности населения."
   ]
  },
  {
   "cell_type": "markdown",
   "id": "42dbecbf",
   "metadata": {},
   "source": [
    "**Построим модель Random Forest**"
   ]
  },
  {
   "cell_type": "code",
   "execution_count": 67,
   "id": "1ca3b6f5",
   "metadata": {},
   "outputs": [
    {
     "name": "stdout",
     "output_type": "stream",
     "text": [
      "Fitting 5 folds for each of 9 candidates, totalling 45 fits\n"
     ]
    },
    {
     "data": {
      "text/plain": [
       "{'max_depth': 10, 'n_estimators': 400}"
      ]
     },
     "execution_count": 67,
     "metadata": {},
     "output_type": "execute_result"
    }
   ],
   "source": [
    "# Воспользуемся GridSearch для поиска гиперпараметров\n",
    "rf = RandomForestRegressor(random_state=42)\n",
    "forest_params = {'n_estimators':[50, 100, 400],\n",
    "                'max_depth': [10, 15, 20]\n",
    "}\n",
    "\n",
    "best_forest = GridSearchCV(rf, forest_params, scoring='r2', \n",
    "                           cv=5, n_jobs=-1, verbose=True)\n",
    "\n",
    "best_forest.fit(X_train, y_train)\n",
    "\n",
    "best_forest.best_params_"
   ]
  },
  {
   "cell_type": "code",
   "execution_count": 75,
   "id": "8fd07792",
   "metadata": {},
   "outputs": [
    {
     "name": "stdout",
     "output_type": "stream",
     "text": [
      "MAE Random Forest User Model на тестовой выборке: 13.76\n",
      "RMSE Random Forest User Model на тестовой выборке: 18.08\n",
      "R2 Random Forest User Model на тестовой выборке: 0.509\n"
     ]
    }
   ],
   "source": [
    "# Построим модель случайного леса с лучшими параметрами\n",
    "rf = RandomForestRegressor(n_estimators=400, max_depth=10, n_jobs=-1, random_state=42)\n",
    "\n",
    "rf.fit(X_train, y_train)\n",
    "\n",
    "y_test_predict = rf.predict(X_test)\n",
    "y_train_predict = rf.predict(X_train)\n",
    "\n",
    "print_metrics(y_test, y_test_predict, \"Random Forest User Model\")"
   ]
  },
  {
   "cell_type": "code",
   "execution_count": 69,
   "id": "a3e8edeb",
   "metadata": {},
   "outputs": [
    {
     "data": {
      "image/png": "[encoded data removed]",
      "text/plain": [
       "<Figure size 720x144 with 1 Axes>"
      ]
     },
     "metadata": {
      "needs_background": "light"
     },
     "output_type": "display_data"
    }
   ],
   "source": [
    "show_feature_importance(model_name, rf.feature_importances_, X_train.columns)"
   ]
  },
  {
   "cell_type": "code",
   "execution_count": 70,
   "id": "a3497cdd",
   "metadata": {},
   "outputs": [
    {
     "data": {
      "image/png": "[encoded data removed]",
      "text/plain": [
       "<Figure size 1152x432 with 1 Axes>"
      ]
     },
     "metadata": {
      "needs_background": "light"
     },
     "output_type": "display_data"
    }
   ],
   "source": [
    "plot_y_true_vs_y_pred(y_train, y_test, y_train_predict, y_test_predict, model_name)"
   ]
  },
  {
   "cell_type": "markdown",
   "id": "5e55fa31",
   "metadata": {},
   "source": [
    "Качество модели у случайного леса с настройкой гиперпараметров получилось выше, чем у линейной регрессии. Важными признаками для леса являются зарплаты населения и безработица, что в частности может являться обоснованием теории Беккера в комплексе c другими признаками."
   ]
  },
  {
   "cell_type": "markdown",
   "id": "d2e56501",
   "metadata": {},
   "source": [
    "**Построим модель XGboost Regression**"
   ]
  },
  {
   "cell_type": "code",
   "execution_count": 71,
   "id": "3e3a0df0",
   "metadata": {},
   "outputs": [
    {
     "name": "stdout",
     "output_type": "stream",
     "text": [
      "Fitting 5 folds for each of 133 candidates, totalling 665 fits\n",
      "{'learning_rate': 0.01, 'max_depth': 2, 'n_estimators': 400}\n",
      "MAE XGboost Regression User Model на тестовой выборке: 14.23\n",
      "RMSE XGboost Regression User Model на тестовой выборке: 18.10\n",
      "R2 XGboost Regression User Model на тестовой выборке: 0.508\n"
     ]
    }
   ],
   "source": [
    "model_name = 'XGboost Regression User Model'\n",
    "xgb_reg = XGBRegressor(random_state=42)\n",
    "\n",
    "xgb_params = {\n",
    "                'learning_rate' : np.arange(0.01, 0.2, 0.01),\n",
    "                'max_depth' : range(2,3),\n",
    "                'n_estimators': range(100,701,100)         \n",
    "}\n",
    "\n",
    "best_xgb = GridSearchCV(xgb_reg, xgb_params, scoring='r2', \n",
    "                           cv=5, n_jobs=-1, verbose=True)\n",
    "\n",
    "best_xgb.fit(X_train, y_train)\n",
    "print(best_xgb.best_params_)\n",
    "\n",
    "\n",
    "xgb_test_pred = best_xgb.best_estimator_.predict(X_test)\n",
    "\n",
    "print_metrics(y_test, xgb_test_pred, model_name)"
   ]
  },
  {
   "cell_type": "code",
   "execution_count": 72,
   "id": "da9ae85f",
   "metadata": {},
   "outputs": [
    {
     "data": {
      "image/png": "[encoded data removed]",
      "text/plain": [
       "<Figure size 720x144 with 1 Axes>"
      ]
     },
     "metadata": {
      "needs_background": "light"
     },
     "output_type": "display_data"
    }
   ],
   "source": [
    "show_feature_importance(model_name, best_xgb.best_estimator_.feature_importances_, X_train.columns)"
   ]
  },
  {
   "cell_type": "code",
   "execution_count": 73,
   "id": "472c02d1",
   "metadata": {},
   "outputs": [
    {
     "data": {
      "image/png": "[encoded data removed]",
      "text/plain": [
       "<Figure size 1152x432 with 1 Axes>"
      ]
     },
     "metadata": {
      "needs_background": "light"
     },
     "output_type": "display_data"
    }
   ],
   "source": [
    "plot_y_true_vs_y_pred(y_train, y_test, y_train_predict, y_test_predict, model_name)"
   ]
  },
  {
   "cell_type": "markdown",
   "id": "80934d6b",
   "metadata": {},
   "source": [
    "XGBoost показал результат хуже чем случайный лес, думаю можно немножко улучшить более тщательным подбором гиперпараметров. Здесь наиболее важными признаками являются деньги (зарплаты и процент бедных людей).\n",
    "\n",
    "Модели показали, что существует некоторая зависимость преступности от доходов и безработицы, на дополнительных данных и других признаках можно построить более качественную модель."
   ]
  },
  {
   "cell_type": "code",
   "execution_count": null,
   "id": "f1221c14",
   "metadata": {},
   "outputs": [],
   "source": []
  }
 ],
 "metadata": {
  "kernelspec": {
   "display_name": "Python 3",
   "language": "python",
   "name": "python3"
  },
  "language_info": {
   "codemirror_mode": {
    "name": "ipython",
    "version": 3
   },
   "file_extension": ".py",
   "mimetype": "text/x-python",
   "name": "python",
   "nbconvert_exporter": "python",
   "pygments_lexer": "ipython3",
   "version": "3.8.8"
  }
 },
 "nbformat": 4,
 "nbformat_minor": 5
}
